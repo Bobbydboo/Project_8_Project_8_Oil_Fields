{
 "cells": [
  {
   "cell_type": "markdown",
   "metadata": {},
   "source": [
    "# Выбор локации для скважины"
   ]
  },
  {
   "cell_type": "markdown",
   "metadata": {},
   "source": [
    "Допустим, вы работаете в добывающей компании «ГлавРосГосНефть». Нужно решить, где бурить новую скважину.\n",
    "\n",
    "Вам предоставлены пробы нефти в трёх регионах: в каждом 10 000 месторождений, где измерили качество нефти и объём её запасов. Постройте модель машинного обучения, которая поможет определить регион, где добыча принесёт наибольшую прибыль. Проанализируйте возможную прибыль и риски техникой *Bootstrap.*\n",
    "\n",
    "Шаги для выбора локации:\n",
    "\n",
    "- В избранном регионе ищут месторождения, для каждого определяют значения признаков;\n",
    "- Строят модель и оценивают объём запасов;\n",
    "- Выбирают месторождения с самым высокими оценками значений. Количество месторождений зависит от бюджета компании и стоимости разработки одной скважины;\n",
    "- Прибыль равна суммарной прибыли отобранных месторождений."
   ]
  },
  {
   "cell_type": "markdown",
   "metadata": {},
   "source": [
    "## Загрузка и подготовка данных"
   ]
  },
  {
   "cell_type": "code",
   "execution_count": 45,
   "metadata": {},
   "outputs": [],
   "source": [
    "RANDOM_STATE=12345\n",
    "import pandas as pd\n",
    "import datetime as dt\n",
    "import plotly.express as px\n",
    "import seaborn as sns\n",
    "import matplotlib.pyplot as plt\n",
    "import numpy as np\n",
    "from sklearn.model_selection import train_test_split\n",
    "from sklearn.preprocessing import StandardScaler\n",
    "from sklearn.linear_model import LinearRegression\n",
    "from sklearn.tree import DecisionTreeRegressor, DecisionTreeClassifier\n",
    "from sklearn.ensemble import RandomForestRegressor, RandomForestClassifier\n",
    "from sklearn.metrics import r2_score, mean_absolute_error, confusion_matrix, mean_squared_error, precision_score, recall_score, f1_score, classification_report, roc_curve, precision_recall_curve, roc_auc_score\n",
    "import warnings\n",
    "warnings.filterwarnings('ignore')\n",
    "import scipy.stats as st\n",
    "from sklearn.utils import shuffle\n",
    "import phik\n",
    "from phik.report import plot_correlation_matrix\n",
    "from phik import report\n",
    "from sklearn.compose import ColumnTransformer\n",
    "from sklearn.preprocessing import RobustScaler, OneHotEncoder\n",
    "from sklearn.pipeline import Pipeline\n",
    "from sklearn.utils import class_weight\n",
    "\n",
    "from sklearn.dummy import DummyRegressor\n",
    "from sklearn.metrics import mean_squared_error, r2_score, mean_absolute_error\n"
   ]
  },
  {
   "cell_type": "code",
   "execution_count": 46,
   "metadata": {},
   "outputs": [],
   "source": [
    "# Импорт данных \n",
    "try:\n",
    "    df1=pd.read_csv('/datasets/geo_data_0.csv')\n",
    "    df2=pd.read_csv('/datasets/geo_data_1.csv')\n",
    "    df3=pd.read_csv('/datasets/geo_data_2.csv')\n",
    "except:\n",
    "    df1=pd.read_csv(r'C:\\Users\\Admin\\Desktop\\Oild\\geo_data_0.csv')\n",
    "    df2=pd.read_csv(r'C:\\Users\\Admin\\Desktop\\Oild\\geo_data_1.csv')\n",
    "    df3=pd.read_csv(r'C:\\Users\\Admin\\Desktop\\Oild\\geo_data_2.csv')"
   ]
  },
  {
   "cell_type": "code",
   "execution_count": 47,
   "metadata": {},
   "outputs": [],
   "source": [
    "#Функция вывода инфы о массиве первые и последние 5 строк\n",
    "def headtail(df_name):\n",
    "    display('Head 5')\n",
    "    display(df_name.head(5))\n",
    "    display('Tail 5')\n",
    "    display(df_name.tail(5))"
   ]
  },
  {
   "cell_type": "markdown",
   "metadata": {},
   "source": [
    "Приступим к анализу данных. Рассмотрим первые и последние 5 строк каждого массива"
   ]
  },
  {
   "cell_type": "code",
   "execution_count": 48,
   "metadata": {},
   "outputs": [
    {
     "data": {
      "text/plain": [
       "'Head 5'"
      ]
     },
     "metadata": {},
     "output_type": "display_data"
    },
    {
     "data": {
      "text/html": [
       "<div>\n",
       "<style scoped>\n",
       "    .dataframe tbody tr th:only-of-type {\n",
       "        vertical-align: middle;\n",
       "    }\n",
       "\n",
       "    .dataframe tbody tr th {\n",
       "        vertical-align: top;\n",
       "    }\n",
       "\n",
       "    .dataframe thead th {\n",
       "        text-align: right;\n",
       "    }\n",
       "</style>\n",
       "<table border=\"1\" class=\"dataframe\">\n",
       "  <thead>\n",
       "    <tr style=\"text-align: right;\">\n",
       "      <th></th>\n",
       "      <th>id</th>\n",
       "      <th>f0</th>\n",
       "      <th>f1</th>\n",
       "      <th>f2</th>\n",
       "      <th>product</th>\n",
       "    </tr>\n",
       "  </thead>\n",
       "  <tbody>\n",
       "    <tr>\n",
       "      <th>0</th>\n",
       "      <td>txEyH</td>\n",
       "      <td>0.705745</td>\n",
       "      <td>-0.497823</td>\n",
       "      <td>1.221170</td>\n",
       "      <td>105.280062</td>\n",
       "    </tr>\n",
       "    <tr>\n",
       "      <th>1</th>\n",
       "      <td>2acmU</td>\n",
       "      <td>1.334711</td>\n",
       "      <td>-0.340164</td>\n",
       "      <td>4.365080</td>\n",
       "      <td>73.037750</td>\n",
       "    </tr>\n",
       "    <tr>\n",
       "      <th>2</th>\n",
       "      <td>409Wp</td>\n",
       "      <td>1.022732</td>\n",
       "      <td>0.151990</td>\n",
       "      <td>1.419926</td>\n",
       "      <td>85.265647</td>\n",
       "    </tr>\n",
       "    <tr>\n",
       "      <th>3</th>\n",
       "      <td>iJLyR</td>\n",
       "      <td>-0.032172</td>\n",
       "      <td>0.139033</td>\n",
       "      <td>2.978566</td>\n",
       "      <td>168.620776</td>\n",
       "    </tr>\n",
       "    <tr>\n",
       "      <th>4</th>\n",
       "      <td>Xdl7t</td>\n",
       "      <td>1.988431</td>\n",
       "      <td>0.155413</td>\n",
       "      <td>4.751769</td>\n",
       "      <td>154.036647</td>\n",
       "    </tr>\n",
       "  </tbody>\n",
       "</table>\n",
       "</div>"
      ],
      "text/plain": [
       "      id        f0        f1        f2     product\n",
       "0  txEyH  0.705745 -0.497823  1.221170  105.280062\n",
       "1  2acmU  1.334711 -0.340164  4.365080   73.037750\n",
       "2  409Wp  1.022732  0.151990  1.419926   85.265647\n",
       "3  iJLyR -0.032172  0.139033  2.978566  168.620776\n",
       "4  Xdl7t  1.988431  0.155413  4.751769  154.036647"
      ]
     },
     "metadata": {},
     "output_type": "display_data"
    },
    {
     "data": {
      "text/plain": [
       "'Tail 5'"
      ]
     },
     "metadata": {},
     "output_type": "display_data"
    },
    {
     "data": {
      "text/html": [
       "<div>\n",
       "<style scoped>\n",
       "    .dataframe tbody tr th:only-of-type {\n",
       "        vertical-align: middle;\n",
       "    }\n",
       "\n",
       "    .dataframe tbody tr th {\n",
       "        vertical-align: top;\n",
       "    }\n",
       "\n",
       "    .dataframe thead th {\n",
       "        text-align: right;\n",
       "    }\n",
       "</style>\n",
       "<table border=\"1\" class=\"dataframe\">\n",
       "  <thead>\n",
       "    <tr style=\"text-align: right;\">\n",
       "      <th></th>\n",
       "      <th>id</th>\n",
       "      <th>f0</th>\n",
       "      <th>f1</th>\n",
       "      <th>f2</th>\n",
       "      <th>product</th>\n",
       "    </tr>\n",
       "  </thead>\n",
       "  <tbody>\n",
       "    <tr>\n",
       "      <th>99995</th>\n",
       "      <td>DLsed</td>\n",
       "      <td>0.971957</td>\n",
       "      <td>0.370953</td>\n",
       "      <td>6.075346</td>\n",
       "      <td>110.744026</td>\n",
       "    </tr>\n",
       "    <tr>\n",
       "      <th>99996</th>\n",
       "      <td>QKivN</td>\n",
       "      <td>1.392429</td>\n",
       "      <td>-0.382606</td>\n",
       "      <td>1.273912</td>\n",
       "      <td>122.346843</td>\n",
       "    </tr>\n",
       "    <tr>\n",
       "      <th>99997</th>\n",
       "      <td>3rnvd</td>\n",
       "      <td>1.029585</td>\n",
       "      <td>0.018787</td>\n",
       "      <td>-1.348308</td>\n",
       "      <td>64.375443</td>\n",
       "    </tr>\n",
       "    <tr>\n",
       "      <th>99998</th>\n",
       "      <td>7kl59</td>\n",
       "      <td>0.998163</td>\n",
       "      <td>-0.528582</td>\n",
       "      <td>1.583869</td>\n",
       "      <td>74.040764</td>\n",
       "    </tr>\n",
       "    <tr>\n",
       "      <th>99999</th>\n",
       "      <td>1CWhH</td>\n",
       "      <td>1.764754</td>\n",
       "      <td>-0.266417</td>\n",
       "      <td>5.722849</td>\n",
       "      <td>149.633246</td>\n",
       "    </tr>\n",
       "  </tbody>\n",
       "</table>\n",
       "</div>"
      ],
      "text/plain": [
       "          id        f0        f1        f2     product\n",
       "99995  DLsed  0.971957  0.370953  6.075346  110.744026\n",
       "99996  QKivN  1.392429 -0.382606  1.273912  122.346843\n",
       "99997  3rnvd  1.029585  0.018787 -1.348308   64.375443\n",
       "99998  7kl59  0.998163 -0.528582  1.583869   74.040764\n",
       "99999  1CWhH  1.764754 -0.266417  5.722849  149.633246"
      ]
     },
     "metadata": {},
     "output_type": "display_data"
    }
   ],
   "source": [
    "headtail(df1)"
   ]
  },
  {
   "cell_type": "code",
   "execution_count": 49,
   "metadata": {},
   "outputs": [
    {
     "data": {
      "text/plain": [
       "'Head 5'"
      ]
     },
     "metadata": {},
     "output_type": "display_data"
    },
    {
     "data": {
      "text/html": [
       "<div>\n",
       "<style scoped>\n",
       "    .dataframe tbody tr th:only-of-type {\n",
       "        vertical-align: middle;\n",
       "    }\n",
       "\n",
       "    .dataframe tbody tr th {\n",
       "        vertical-align: top;\n",
       "    }\n",
       "\n",
       "    .dataframe thead th {\n",
       "        text-align: right;\n",
       "    }\n",
       "</style>\n",
       "<table border=\"1\" class=\"dataframe\">\n",
       "  <thead>\n",
       "    <tr style=\"text-align: right;\">\n",
       "      <th></th>\n",
       "      <th>id</th>\n",
       "      <th>f0</th>\n",
       "      <th>f1</th>\n",
       "      <th>f2</th>\n",
       "      <th>product</th>\n",
       "    </tr>\n",
       "  </thead>\n",
       "  <tbody>\n",
       "    <tr>\n",
       "      <th>0</th>\n",
       "      <td>kBEdx</td>\n",
       "      <td>-15.001348</td>\n",
       "      <td>-8.276000</td>\n",
       "      <td>-0.005876</td>\n",
       "      <td>3.179103</td>\n",
       "    </tr>\n",
       "    <tr>\n",
       "      <th>1</th>\n",
       "      <td>62mP7</td>\n",
       "      <td>14.272088</td>\n",
       "      <td>-3.475083</td>\n",
       "      <td>0.999183</td>\n",
       "      <td>26.953261</td>\n",
       "    </tr>\n",
       "    <tr>\n",
       "      <th>2</th>\n",
       "      <td>vyE1P</td>\n",
       "      <td>6.263187</td>\n",
       "      <td>-5.948386</td>\n",
       "      <td>5.001160</td>\n",
       "      <td>134.766305</td>\n",
       "    </tr>\n",
       "    <tr>\n",
       "      <th>3</th>\n",
       "      <td>KcrkZ</td>\n",
       "      <td>-13.081196</td>\n",
       "      <td>-11.506057</td>\n",
       "      <td>4.999415</td>\n",
       "      <td>137.945408</td>\n",
       "    </tr>\n",
       "    <tr>\n",
       "      <th>4</th>\n",
       "      <td>AHL4O</td>\n",
       "      <td>12.702195</td>\n",
       "      <td>-8.147433</td>\n",
       "      <td>5.004363</td>\n",
       "      <td>134.766305</td>\n",
       "    </tr>\n",
       "  </tbody>\n",
       "</table>\n",
       "</div>"
      ],
      "text/plain": [
       "      id         f0         f1        f2     product\n",
       "0  kBEdx -15.001348  -8.276000 -0.005876    3.179103\n",
       "1  62mP7  14.272088  -3.475083  0.999183   26.953261\n",
       "2  vyE1P   6.263187  -5.948386  5.001160  134.766305\n",
       "3  KcrkZ -13.081196 -11.506057  4.999415  137.945408\n",
       "4  AHL4O  12.702195  -8.147433  5.004363  134.766305"
      ]
     },
     "metadata": {},
     "output_type": "display_data"
    },
    {
     "data": {
      "text/plain": [
       "'Tail 5'"
      ]
     },
     "metadata": {},
     "output_type": "display_data"
    },
    {
     "data": {
      "text/html": [
       "<div>\n",
       "<style scoped>\n",
       "    .dataframe tbody tr th:only-of-type {\n",
       "        vertical-align: middle;\n",
       "    }\n",
       "\n",
       "    .dataframe tbody tr th {\n",
       "        vertical-align: top;\n",
       "    }\n",
       "\n",
       "    .dataframe thead th {\n",
       "        text-align: right;\n",
       "    }\n",
       "</style>\n",
       "<table border=\"1\" class=\"dataframe\">\n",
       "  <thead>\n",
       "    <tr style=\"text-align: right;\">\n",
       "      <th></th>\n",
       "      <th>id</th>\n",
       "      <th>f0</th>\n",
       "      <th>f1</th>\n",
       "      <th>f2</th>\n",
       "      <th>product</th>\n",
       "    </tr>\n",
       "  </thead>\n",
       "  <tbody>\n",
       "    <tr>\n",
       "      <th>99995</th>\n",
       "      <td>QywKC</td>\n",
       "      <td>9.535637</td>\n",
       "      <td>-6.878139</td>\n",
       "      <td>1.998296</td>\n",
       "      <td>53.906522</td>\n",
       "    </tr>\n",
       "    <tr>\n",
       "      <th>99996</th>\n",
       "      <td>ptvty</td>\n",
       "      <td>-10.160631</td>\n",
       "      <td>-12.558096</td>\n",
       "      <td>5.005581</td>\n",
       "      <td>137.945408</td>\n",
       "    </tr>\n",
       "    <tr>\n",
       "      <th>99997</th>\n",
       "      <td>09gWa</td>\n",
       "      <td>-7.378891</td>\n",
       "      <td>-3.084104</td>\n",
       "      <td>4.998651</td>\n",
       "      <td>137.945408</td>\n",
       "    </tr>\n",
       "    <tr>\n",
       "      <th>99998</th>\n",
       "      <td>rqwUm</td>\n",
       "      <td>0.665714</td>\n",
       "      <td>-6.152593</td>\n",
       "      <td>1.000146</td>\n",
       "      <td>30.132364</td>\n",
       "    </tr>\n",
       "    <tr>\n",
       "      <th>99999</th>\n",
       "      <td>relB0</td>\n",
       "      <td>-3.426139</td>\n",
       "      <td>-7.794274</td>\n",
       "      <td>-0.003299</td>\n",
       "      <td>3.179103</td>\n",
       "    </tr>\n",
       "  </tbody>\n",
       "</table>\n",
       "</div>"
      ],
      "text/plain": [
       "          id         f0         f1        f2     product\n",
       "99995  QywKC   9.535637  -6.878139  1.998296   53.906522\n",
       "99996  ptvty -10.160631 -12.558096  5.005581  137.945408\n",
       "99997  09gWa  -7.378891  -3.084104  4.998651  137.945408\n",
       "99998  rqwUm   0.665714  -6.152593  1.000146   30.132364\n",
       "99999  relB0  -3.426139  -7.794274 -0.003299    3.179103"
      ]
     },
     "metadata": {},
     "output_type": "display_data"
    }
   ],
   "source": [
    "headtail(df2)"
   ]
  },
  {
   "cell_type": "code",
   "execution_count": 50,
   "metadata": {},
   "outputs": [
    {
     "data": {
      "text/plain": [
       "'Head 5'"
      ]
     },
     "metadata": {},
     "output_type": "display_data"
    },
    {
     "data": {
      "text/html": [
       "<div>\n",
       "<style scoped>\n",
       "    .dataframe tbody tr th:only-of-type {\n",
       "        vertical-align: middle;\n",
       "    }\n",
       "\n",
       "    .dataframe tbody tr th {\n",
       "        vertical-align: top;\n",
       "    }\n",
       "\n",
       "    .dataframe thead th {\n",
       "        text-align: right;\n",
       "    }\n",
       "</style>\n",
       "<table border=\"1\" class=\"dataframe\">\n",
       "  <thead>\n",
       "    <tr style=\"text-align: right;\">\n",
       "      <th></th>\n",
       "      <th>id</th>\n",
       "      <th>f0</th>\n",
       "      <th>f1</th>\n",
       "      <th>f2</th>\n",
       "      <th>product</th>\n",
       "    </tr>\n",
       "  </thead>\n",
       "  <tbody>\n",
       "    <tr>\n",
       "      <th>0</th>\n",
       "      <td>fwXo0</td>\n",
       "      <td>-1.146987</td>\n",
       "      <td>0.963328</td>\n",
       "      <td>-0.828965</td>\n",
       "      <td>27.758673</td>\n",
       "    </tr>\n",
       "    <tr>\n",
       "      <th>1</th>\n",
       "      <td>WJtFt</td>\n",
       "      <td>0.262778</td>\n",
       "      <td>0.269839</td>\n",
       "      <td>-2.530187</td>\n",
       "      <td>56.069697</td>\n",
       "    </tr>\n",
       "    <tr>\n",
       "      <th>2</th>\n",
       "      <td>ovLUW</td>\n",
       "      <td>0.194587</td>\n",
       "      <td>0.289035</td>\n",
       "      <td>-5.586433</td>\n",
       "      <td>62.871910</td>\n",
       "    </tr>\n",
       "    <tr>\n",
       "      <th>3</th>\n",
       "      <td>q6cA6</td>\n",
       "      <td>2.236060</td>\n",
       "      <td>-0.553760</td>\n",
       "      <td>0.930038</td>\n",
       "      <td>114.572842</td>\n",
       "    </tr>\n",
       "    <tr>\n",
       "      <th>4</th>\n",
       "      <td>WPMUX</td>\n",
       "      <td>-0.515993</td>\n",
       "      <td>1.716266</td>\n",
       "      <td>5.899011</td>\n",
       "      <td>149.600746</td>\n",
       "    </tr>\n",
       "  </tbody>\n",
       "</table>\n",
       "</div>"
      ],
      "text/plain": [
       "      id        f0        f1        f2     product\n",
       "0  fwXo0 -1.146987  0.963328 -0.828965   27.758673\n",
       "1  WJtFt  0.262778  0.269839 -2.530187   56.069697\n",
       "2  ovLUW  0.194587  0.289035 -5.586433   62.871910\n",
       "3  q6cA6  2.236060 -0.553760  0.930038  114.572842\n",
       "4  WPMUX -0.515993  1.716266  5.899011  149.600746"
      ]
     },
     "metadata": {},
     "output_type": "display_data"
    },
    {
     "data": {
      "text/plain": [
       "'Tail 5'"
      ]
     },
     "metadata": {},
     "output_type": "display_data"
    },
    {
     "data": {
      "text/html": [
       "<div>\n",
       "<style scoped>\n",
       "    .dataframe tbody tr th:only-of-type {\n",
       "        vertical-align: middle;\n",
       "    }\n",
       "\n",
       "    .dataframe tbody tr th {\n",
       "        vertical-align: top;\n",
       "    }\n",
       "\n",
       "    .dataframe thead th {\n",
       "        text-align: right;\n",
       "    }\n",
       "</style>\n",
       "<table border=\"1\" class=\"dataframe\">\n",
       "  <thead>\n",
       "    <tr style=\"text-align: right;\">\n",
       "      <th></th>\n",
       "      <th>id</th>\n",
       "      <th>f0</th>\n",
       "      <th>f1</th>\n",
       "      <th>f2</th>\n",
       "      <th>product</th>\n",
       "    </tr>\n",
       "  </thead>\n",
       "  <tbody>\n",
       "    <tr>\n",
       "      <th>99995</th>\n",
       "      <td>4GxBu</td>\n",
       "      <td>-1.777037</td>\n",
       "      <td>1.125220</td>\n",
       "      <td>6.263374</td>\n",
       "      <td>172.327046</td>\n",
       "    </tr>\n",
       "    <tr>\n",
       "      <th>99996</th>\n",
       "      <td>YKFjq</td>\n",
       "      <td>-1.261523</td>\n",
       "      <td>-0.894828</td>\n",
       "      <td>2.524545</td>\n",
       "      <td>138.748846</td>\n",
       "    </tr>\n",
       "    <tr>\n",
       "      <th>99997</th>\n",
       "      <td>tKPY3</td>\n",
       "      <td>-1.199934</td>\n",
       "      <td>-2.957637</td>\n",
       "      <td>5.219411</td>\n",
       "      <td>157.080080</td>\n",
       "    </tr>\n",
       "    <tr>\n",
       "      <th>99998</th>\n",
       "      <td>nmxp2</td>\n",
       "      <td>-2.419896</td>\n",
       "      <td>2.417221</td>\n",
       "      <td>-5.548444</td>\n",
       "      <td>51.795253</td>\n",
       "    </tr>\n",
       "    <tr>\n",
       "      <th>99999</th>\n",
       "      <td>V9kWn</td>\n",
       "      <td>-2.551421</td>\n",
       "      <td>-2.025625</td>\n",
       "      <td>6.090891</td>\n",
       "      <td>102.775767</td>\n",
       "    </tr>\n",
       "  </tbody>\n",
       "</table>\n",
       "</div>"
      ],
      "text/plain": [
       "          id        f0        f1        f2     product\n",
       "99995  4GxBu -1.777037  1.125220  6.263374  172.327046\n",
       "99996  YKFjq -1.261523 -0.894828  2.524545  138.748846\n",
       "99997  tKPY3 -1.199934 -2.957637  5.219411  157.080080\n",
       "99998  nmxp2 -2.419896  2.417221 -5.548444   51.795253\n",
       "99999  V9kWn -2.551421 -2.025625  6.090891  102.775767"
      ]
     },
     "metadata": {},
     "output_type": "display_data"
    }
   ],
   "source": [
    "headtail(df3)"
   ]
  },
  {
   "cell_type": "markdown",
   "metadata": {},
   "source": [
    "Пояснение к полям:\n",
    "\n",
    "id — уникальный идентификатор скважины;\n",
    "f0, f1, f2 — три признака точек (неважно, что они означают, но сами признаки значимы);\n",
    "product — объём запасов в скважине (тыс. баррелей)."
   ]
  },
  {
   "cell_type": "markdown",
   "metadata": {},
   "source": [
    "f0\tf1\tf2\t- фичи, вероятно после шифрования, либо это координаты, но тоже в зашифрованом виде"
   ]
  },
  {
   "cell_type": "markdown",
   "metadata": {},
   "source": [
    "Рассмотрим дополнительные свойства "
   ]
  },
  {
   "cell_type": "code",
   "execution_count": 51,
   "metadata": {},
   "outputs": [
    {
     "name": "stdout",
     "output_type": "stream",
     "text": [
      "<class 'pandas.core.frame.DataFrame'>\n",
      "RangeIndex: 100000 entries, 0 to 99999\n",
      "Data columns (total 5 columns):\n",
      " #   Column   Non-Null Count   Dtype  \n",
      "---  ------   --------------   -----  \n",
      " 0   id       100000 non-null  object \n",
      " 1   f0       100000 non-null  float64\n",
      " 2   f1       100000 non-null  float64\n",
      " 3   f2       100000 non-null  float64\n",
      " 4   product  100000 non-null  float64\n",
      "dtypes: float64(4), object(1)\n",
      "memory usage: 3.8+ MB\n",
      "None\n"
     ]
    }
   ],
   "source": [
    "print(df1.info())"
   ]
  },
  {
   "cell_type": "code",
   "execution_count": 52,
   "metadata": {},
   "outputs": [
    {
     "name": "stdout",
     "output_type": "stream",
     "text": [
      "<class 'pandas.core.frame.DataFrame'>\n",
      "RangeIndex: 100000 entries, 0 to 99999\n",
      "Data columns (total 5 columns):\n",
      " #   Column   Non-Null Count   Dtype  \n",
      "---  ------   --------------   -----  \n",
      " 0   id       100000 non-null  object \n",
      " 1   f0       100000 non-null  float64\n",
      " 2   f1       100000 non-null  float64\n",
      " 3   f2       100000 non-null  float64\n",
      " 4   product  100000 non-null  float64\n",
      "dtypes: float64(4), object(1)\n",
      "memory usage: 3.8+ MB\n",
      "None\n"
     ]
    }
   ],
   "source": [
    "print(df2.info())"
   ]
  },
  {
   "cell_type": "code",
   "execution_count": 53,
   "metadata": {},
   "outputs": [
    {
     "name": "stdout",
     "output_type": "stream",
     "text": [
      "<class 'pandas.core.frame.DataFrame'>\n",
      "RangeIndex: 100000 entries, 0 to 99999\n",
      "Data columns (total 5 columns):\n",
      " #   Column   Non-Null Count   Dtype  \n",
      "---  ------   --------------   -----  \n",
      " 0   id       100000 non-null  object \n",
      " 1   f0       100000 non-null  float64\n",
      " 2   f1       100000 non-null  float64\n",
      " 3   f2       100000 non-null  float64\n",
      " 4   product  100000 non-null  float64\n",
      "dtypes: float64(4), object(1)\n",
      "memory usage: 3.8+ MB\n",
      "None\n"
     ]
    }
   ],
   "source": [
    "print(df3.info())"
   ]
  },
  {
   "cell_type": "markdown",
   "metadata": {},
   "source": [
    "Исходные массивы имеют 100000 строк.Количество данных, типы данных совпадают. \n",
    "\n",
    "Добавим поля, которые отвечают за группу, например, A,B,C для каждого df"
   ]
  },
  {
   "cell_type": "code",
   "execution_count": 54,
   "metadata": {},
   "outputs": [],
   "source": [
    "#Функция добавления категории к массиву\n",
    "def cat(df_name1,df_name2,df_name3):\n",
    "    df_name1['category']='A'\n",
    "    df_name2['category']='B'\n",
    "    df_name3['category']='C'"
   ]
  },
  {
   "cell_type": "code",
   "execution_count": 55,
   "metadata": {},
   "outputs": [],
   "source": [
    "cat(df1,df2,df3)\n",
    "\n",
    "#AB,AC,BC, df1,df2 df1,df3  df2,df3"
   ]
  },
  {
   "cell_type": "markdown",
   "metadata": {},
   "source": [
    "Для данной задачи имеются следующие ограничения и условия:\n",
    "\n",
    "1. Для обучения модели подходит только линейная регрессия, поскольку другие модели не обеспечивают достаточную предсказуемость в данном контексте.\n",
    "\n",
    "2. При разведке каждого региона исследуют 500 месторождений, и с использованием машинного обучения выбирают 200 наилучших для разработки.\n",
    "\n",
    "3. Бюджет на разработку скважин в каждом регионе составляет 10 миллиардов рублей.\n",
    "\n",
    "4. При текущих ценах один баррель сырья приносит доход в размере 450 рублей. Доход с каждой единицы продукции составляет 450 тысяч рублей, так как объём указан в тысячах баррелей.\n",
    "\n",
    "5. Регион считается убыточным, если сумма дохода от разработки не превысила бюджет или равна бюджету. В противном случае, регион считается прибыльным.\n",
    "\n",
    "6. Данные, используемые в задаче, являются синтетическими, и детали контрактов и характеристики месторождений не разглашаются.\n",
    "\n",
    "Основной задачей является выбор региона для разработки, который максимизирует прибыль и при этом имеет риск убытков менее 2.5%.\n",
    "\n",
    "\n",
    " Убытком считается ситуация, когда сумма дохода от разработки скважин не превышает бюджет или равна бюджету. Если сумма дохода превышает бюджет, то это считается прибылью.\n"
   ]
  },
  {
   "cell_type": "markdown",
   "metadata": {},
   "source": [
    "**Вывод**\n",
    "\n",
    "Так как  у нас нет информации о стоимости, бюджете, и других дополнительных параметрах для каждой скважины в регионе, и предоставлены только группы A, B и C, то мы можем рассматривать задачу как задачу классификации с тремя классами: A, B и C. Нашей целью будет предсказать, к какой из этих групп будет относиться каждая скважина.\n",
    "\n",
    "Для этого нам необходимо провести анализ и исследование данных, чтобы выявить признаки, которые могли бы помочь в классификации скважин по группам. Мы также можем использовать различные методы машинного обучения, такие как логистическая регрессия, случайный лес, или метод опорных векторов, чтобы построить модель классификации на основе имеющихся данных о скважинах.\n",
    "\n",
    "После построения модели мы сможем предсказать, к какой из групп (A, B или C) относится каждая скважина в регионе, и таким образом определить, в каком регионе стоит добывать нефть, чтобы максимизировать прибыль и снизить риски убытков."
   ]
  },
  {
   "cell_type": "code",
   "execution_count": 56,
   "metadata": {},
   "outputs": [],
   "source": [
    "#AB,AC,BC, df1,df2  df1,df3  df2,df3\n",
    "#Функция визуализации данных\n",
    "def visual_part2(df_1,df_2):\n",
    "    print('f0 distribution')\n",
    "    a=plt.hist([df_1['f0'], df_2['f0']],bins = 30,\n",
    "             color =('pink','blue'),label=(\"1 f0\", \"2 f0\"))\n",
    "    plt.xlabel(\"f0\")\n",
    "    plt.ylabel(\"Количество f0\")\n",
    "    \n",
    "    plt.legend(loc='best')\n",
    "    plt.show()\n",
    "    \n",
    "    print('f1 distribution')\n",
    "    plt.hist([df_1['f1'], df_2['f1']],bins = 30,color =('pink','blue'),label=(\"1 f1\", \"2 f1\"))\n",
    "    plt.xlabel(\"f1\")\n",
    "    plt.ylabel(\"Количество f1\")\n",
    "    plt.legend(loc='best')\n",
    "    plt.show()\n",
    "    \n",
    "    print('f2 distribution')\n",
    "    plt.hist([df_1['f2'], df_2['f2']],bins = 30,color =('pink','blue'),\n",
    "             label=(\"1 f2\", \"2 f2\"))\n",
    "    plt.xlabel(\"f2\")\n",
    "    plt.ylabel(\"Количество f2\")\n",
    "    plt.legend(loc='best')\n",
    "    plt.show()\n",
    "    \n",
    "    print('product distribution')\n",
    "    plt.hist([df_1['product'], df_2['product']],bins = 30,color =('pink','blue'),\n",
    "             label=(\"1 product\", \"2 product\"))\n",
    "    plt.xlabel(\"product\")\n",
    "    plt.ylabel(\"Количество product\")\n",
    "    plt.legend(loc='best')\n",
    "    plt.show()\n",
    "    \n",
    "    \n",
    "   \n",
    "    \n",
    "   "
   ]
  },
  {
   "cell_type": "code",
   "execution_count": 57,
   "metadata": {},
   "outputs": [
    {
     "name": "stdout",
     "output_type": "stream",
     "text": [
      "f0 distribution\n"
     ]
    },
    {
     "data": {
      "image/png": "[encoded data removed]",
      "text/plain": [
       "<Figure size 432x288 with 1 Axes>"
      ]
     },
     "metadata": {
      "needs_background": "light"
     },
     "output_type": "display_data"
    },
    {
     "name": "stdout",
     "output_type": "stream",
     "text": [
      "f1 distribution\n"
     ]
    },
    {
     "data": {
      "image/png": "[encoded data removed]",
      "text/plain": [
       "<Figure size 432x288 with 1 Axes>"
      ]
     },
     "metadata": {
      "needs_background": "light"
     },
     "output_type": "display_data"
    },
    {
     "name": "stdout",
     "output_type": "stream",
     "text": [
      "f2 distribution\n"
     ]
    },
    {
     "data": {
      "image/png": "[encoded data removed]",
      "text/plain": [
       "<Figure size 432x288 with 1 Axes>"
      ]
     },
     "metadata": {
      "needs_background": "light"
     },
     "output_type": "display_data"
    },
    {
     "name": "stdout",
     "output_type": "stream",
     "text": [
      "product distribution\n"
     ]
    },
    {
     "data": {
      "image/png": "[encoded data removed]",
      "text/plain": [
       "<Figure size 432x288 with 1 Axes>"
      ]
     },
     "metadata": {
      "needs_background": "light"
     },
     "output_type": "display_data"
    }
   ],
   "source": [
    "visual_part2(df1,df2)"
   ]
  },
  {
   "cell_type": "markdown",
   "metadata": {},
   "source": [
    "Наблюдаем несоглассованность признаков  для категорий AB ( df1,df2), значения признаков в B превышают количественно признаков A"
   ]
  },
  {
   "cell_type": "markdown",
   "metadata": {},
   "source": [
    "Перейдем к следующей группе AC (df1,df3)"
   ]
  },
  {
   "cell_type": "code",
   "execution_count": 58,
   "metadata": {},
   "outputs": [
    {
     "name": "stdout",
     "output_type": "stream",
     "text": [
      "f0 distribution\n"
     ]
    },
    {
     "data": {
      "image/png": "[encoded data removed]",
      "text/plain": [
       "<Figure size 432x288 with 1 Axes>"
      ]
     },
     "metadata": {
      "needs_background": "light"
     },
     "output_type": "display_data"
    },
    {
     "name": "stdout",
     "output_type": "stream",
     "text": [
      "f1 distribution\n"
     ]
    },
    {
     "data": {
      "image/png": "[encoded data removed]",
      "text/plain": [
       "<Figure size 432x288 with 1 Axes>"
      ]
     },
     "metadata": {
      "needs_background": "light"
     },
     "output_type": "display_data"
    },
    {
     "name": "stdout",
     "output_type": "stream",
     "text": [
      "f2 distribution\n"
     ]
    },
    {
     "data": {
      "image/png": "[encoded data removed]",
      "text/plain": [
       "<Figure size 432x288 with 1 Axes>"
      ]
     },
     "metadata": {
      "needs_background": "light"
     },
     "output_type": "display_data"
    },
    {
     "name": "stdout",
     "output_type": "stream",
     "text": [
      "product distribution\n"
     ]
    },
    {
     "data": {
      "image/png": "[encoded data removed]",
      "text/plain": [
       "<Figure size 432x288 with 1 Axes>"
      ]
     },
     "metadata": {
      "needs_background": "light"
     },
     "output_type": "display_data"
    }
   ],
   "source": [
    "visual_part2(df1,df3)"
   ]
  },
  {
   "cell_type": "markdown",
   "metadata": {},
   "source": [
    "В данном случае AC (df1,df3) ситация немного лучше по критериям product, f2 эквивалентны, по критерию f0 и f1 наблюдается\n",
    "количественный сдвиг в сторону df3.\n",
    "\n",
    "Также признаки f0 и f1 будут иметь взаимосвязь, что плохо скажется на модели.\n",
    "\n",
    "Позднее проверим по корелляции признаков"
   ]
  },
  {
   "cell_type": "markdown",
   "metadata": {},
   "source": [
    "Рассмотрим случай BC (df2,df3)"
   ]
  },
  {
   "cell_type": "code",
   "execution_count": 59,
   "metadata": {},
   "outputs": [
    {
     "name": "stdout",
     "output_type": "stream",
     "text": [
      "f0 distribution\n"
     ]
    },
    {
     "data": {
      "image/png": "[encoded data removed]",
      "text/plain": [
       "<Figure size 432x288 with 1 Axes>"
      ]
     },
     "metadata": {
      "needs_background": "light"
     },
     "output_type": "display_data"
    },
    {
     "name": "stdout",
     "output_type": "stream",
     "text": [
      "f1 distribution\n"
     ]
    },
    {
     "data": {
      "image/png": "[encoded data removed]",
      "text/plain": [
       "<Figure size 432x288 with 1 Axes>"
      ]
     },
     "metadata": {
      "needs_background": "light"
     },
     "output_type": "display_data"
    },
    {
     "name": "stdout",
     "output_type": "stream",
     "text": [
      "f2 distribution\n"
     ]
    },
    {
     "data": {
      "image/png": "[encoded data removed]",
      "text/plain": [
       "<Figure size 432x288 with 1 Axes>"
      ]
     },
     "metadata": {
      "needs_background": "light"
     },
     "output_type": "display_data"
    },
    {
     "name": "stdout",
     "output_type": "stream",
     "text": [
      "product distribution\n"
     ]
    },
    {
     "data": {
      "image/png": "[encoded data removed]",
      "text/plain": [
       "<Figure size 432x288 with 1 Axes>"
      ]
     },
     "metadata": {
      "needs_background": "light"
     },
     "output_type": "display_data"
    }
   ],
   "source": [
    "visual_part2(df2,df3)"
   ]
  },
  {
   "cell_type": "markdown",
   "metadata": {},
   "source": [
    "**Вывод**\n",
    "\n",
    "**AB (df1, df2):** Наблюдается несогласованность признаков, где значения признаков в B превышают количественно признаки в A. Это может указывать на различия в данных между этими двуми категориями, и это может потребовать дополнительного анализа.\n",
    "\n",
    "**AC (df1, df3):** В данном случае ситуация немного лучше по критериям product и f2, которые эквивалентны между df1 и df3. Однако, по критериям f0 и f1 наблюдается количественный сдвиг в сторону df3. Также стоит учесть, что признаки f0 и f1 могут иметь взаимосвязь, что потенциально может повлиять на модель. Эти аспекты будут учтены при дальнейшем анализе, включая корреляционный анализ.\n",
    "\n",
    "**BC (df2, df3):** В этом случае также наблюдается смещение в сторону массива df3. Это может указывать на различия между этими двуми категориями, и для дальнейшего анализа данных можно воспользоваться сбросом по межквартильному размаху (IQR) для соответствующих признаков.\n",
    "\n",
    "**Воспользуемся сбросом по IQR для данных признаков**"
   ]
  },
  {
   "cell_type": "code",
   "execution_count": 60,
   "metadata": {},
   "outputs": [],
   "source": [
    "# Функция вывода пределов для сброса по методу IQR принимает на вход массив.describe() из числовых значений\n",
    "# Рекомендация  использовать значения типа float | int \n",
    "# индекс- колонка с названием исходного столбца \n",
    "def iqr(stat_df_describe):\n",
    "    stat_df_describe=pd.DataFrame(stat_df_describe.describe())\n",
    "    stat_df_describe=stat_df_describe.reset_index(drop=True)\n",
    "    top_limit=[]\n",
    "    bot_limit=[]\n",
    "    columns_lst=[]\n",
    "    for value in stat_df_describe.columns:\n",
    "        limit_up=stat_df_describe[value][6]+1.5*(stat_df_describe[value][6]-stat_df_describe[value][4])\n",
    "        limit_low=stat_df_describe[value][4]-1.5*(stat_df_describe[value][6]-stat_df_describe[value][4])\n",
    "        top_limit.append(limit_up)\n",
    "        \n",
    "        bot_limit.append(limit_low)\n",
    "        columns_lst.append(value)\n",
    "        dictionary={'Columns':columns_lst, 'Top_limit':top_limit,'Bot_limit':bot_limit}\n",
    "        a=pd.DataFrame(dictionary)\n",
    "                \n",
    "        \n",
    "    return a"
   ]
  },
  {
   "cell_type": "code",
   "execution_count": 61,
   "metadata": {},
   "outputs": [],
   "source": [
    "df_lim1=iqr(df1)\n",
    "df_lim2=iqr(df2)\n",
    "df_lim3=iqr(df3)"
   ]
  },
  {
   "cell_type": "code",
   "execution_count": 62,
   "metadata": {},
   "outputs": [
    {
     "data": {
      "text/html": [
       "<div>\n",
       "<style scoped>\n",
       "    .dataframe tbody tr th:only-of-type {\n",
       "        vertical-align: middle;\n",
       "    }\n",
       "\n",
       "    .dataframe tbody tr th {\n",
       "        vertical-align: top;\n",
       "    }\n",
       "\n",
       "    .dataframe thead th {\n",
       "        text-align: right;\n",
       "    }\n",
       "</style>\n",
       "<table border=\"1\" class=\"dataframe\">\n",
       "  <thead>\n",
       "    <tr style=\"text-align: right;\">\n",
       "      <th></th>\n",
       "      <th>Columns</th>\n",
       "      <th>Top_limit</th>\n",
       "      <th>Bot_limit</th>\n",
       "    </tr>\n",
       "  </thead>\n",
       "  <tbody>\n",
       "    <tr>\n",
       "      <th>0</th>\n",
       "      <td>f0</td>\n",
       "      <td>2.792824</td>\n",
       "      <td>-1.791823</td>\n",
       "    </tr>\n",
       "    <tr>\n",
       "      <th>1</th>\n",
       "      <td>f1</td>\n",
       "      <td>2.052938</td>\n",
       "      <td>-1.553173</td>\n",
       "    </tr>\n",
       "    <tr>\n",
       "      <th>2</th>\n",
       "      <td>f2</td>\n",
       "      <td>11.356098</td>\n",
       "      <td>-6.353261</td>\n",
       "    </tr>\n",
       "    <tr>\n",
       "      <th>3</th>\n",
       "      <td>product</td>\n",
       "      <td>236.663962</td>\n",
       "      <td>-51.602367</td>\n",
       "    </tr>\n",
       "  </tbody>\n",
       "</table>\n",
       "</div>"
      ],
      "text/plain": [
       "   Columns   Top_limit  Bot_limit\n",
       "0       f0    2.792824  -1.791823\n",
       "1       f1    2.052938  -1.553173\n",
       "2       f2   11.356098  -6.353261\n",
       "3  product  236.663962 -51.602367"
      ]
     },
     "metadata": {},
     "output_type": "display_data"
    }
   ],
   "source": [
    "display(df_lim1)"
   ]
  },
  {
   "cell_type": "code",
   "execution_count": 63,
   "metadata": {},
   "outputs": [],
   "source": [
    "def intrest_df(df_intrest,df_limit):\n",
    "    intrest_df_intrest=df_intrest[(df_intrest['f0']<df_limit['Top_limit'][0])&\n",
    "                        (df_intrest['f0']>=df_limit['Bot_limit'][0])&\n",
    "                        (df_intrest['f1']<df_limit['Top_limit'][1])&\n",
    "                        (df_intrest['f1']>=df_limit['Bot_limit'][1])&\n",
    "                        (df_intrest['f2']<df_limit['Top_limit'][2])&\n",
    "                        (df_intrest['f2']>=df_limit['Bot_limit'][2])&\n",
    "                        (df_intrest['product']<df_limit['Top_limit'][3])&\n",
    "                        (df_intrest['product']>=df_limit['Bot_limit'][3])]\n",
    "    return intrest_df_intrest"
   ]
  },
  {
   "cell_type": "code",
   "execution_count": 64,
   "metadata": {},
   "outputs": [],
   "source": [
    "df_intrest1=intrest_df(df1,df_lim1)\n",
    "df_intrest2=intrest_df(df2,df_lim2)\n",
    "df_intrest3=intrest_df(df3,df_lim3)\n"
   ]
  },
  {
   "cell_type": "code",
   "execution_count": 65,
   "metadata": {},
   "outputs": [
    {
     "name": "stdout",
     "output_type": "stream",
     "text": [
      "<class 'pandas.core.frame.DataFrame'>\n",
      "Int64Index: 99494 entries, 0 to 99999\n",
      "Data columns (total 6 columns):\n",
      " #   Column    Non-Null Count  Dtype  \n",
      "---  ------    --------------  -----  \n",
      " 0   id        99494 non-null  object \n",
      " 1   f0        99494 non-null  float64\n",
      " 2   f1        99494 non-null  float64\n",
      " 3   f2        99494 non-null  float64\n",
      " 4   product   99494 non-null  float64\n",
      " 5   category  99494 non-null  object \n",
      "dtypes: float64(4), object(2)\n",
      "memory usage: 5.3+ MB\n"
     ]
    },
    {
     "data": {
      "text/plain": [
       "None"
      ]
     },
     "metadata": {},
     "output_type": "display_data"
    }
   ],
   "source": [
    "display(df_intrest1.info())"
   ]
  },
  {
   "cell_type": "markdown",
   "metadata": {},
   "source": [
    "Рассмотрим корелляцию между критериями для каждого региона"
   ]
  },
  {
   "cell_type": "code",
   "execution_count": 66,
   "metadata": {},
   "outputs": [
    {
     "data": {
      "text/plain": [
       "Index(['id', 'f0', 'f1', 'f2', 'product', 'category'], dtype='object')"
      ]
     },
     "execution_count": 66,
     "metadata": {},
     "output_type": "execute_result"
    }
   ],
   "source": [
    "df_intrest1.columns"
   ]
  },
  {
   "cell_type": "code",
   "execution_count": 67,
   "metadata": {},
   "outputs": [],
   "source": [
    "numeric_columns=['f0', 'f1', 'f2', 'product']"
   ]
  },
  {
   "cell_type": "code",
   "execution_count": 68,
   "metadata": {},
   "outputs": [],
   "source": [
    "categorical_columns=['category']"
   ]
  },
  {
   "cell_type": "code",
   "execution_count": 69,
   "metadata": {},
   "outputs": [],
   "source": [
    "#дропаем дубликаты\n",
    "df_intrest1=df_intrest1.drop_duplicates()\n",
    "df_intrest2=df_intrest2.drop_duplicates()\n",
    "df_intrest3=df_intrest3.drop_duplicates()"
   ]
  },
  {
   "cell_type": "code",
   "execution_count": 70,
   "metadata": {},
   "outputs": [],
   "source": [
    "#дропаем id\n",
    "\n",
    "df_intrest1=df_intrest1.drop('id',axis=1)\n",
    "df_intrest2=df_intrest2.drop('id',axis=1)\n",
    "df_intrest3=df_intrest3.drop('id',axis=1)"
   ]
  },
  {
   "cell_type": "code",
   "execution_count": 71,
   "metadata": {},
   "outputs": [
    {
     "name": "stdout",
     "output_type": "stream",
     "text": [
      "Корелляционная матрица phik для региона A\n"
     ]
    },
    {
     "data": {
      "image/png": "[encoded data removed]",
      "text/plain": [
       "<Figure size 1152x576 with 2 Axes>"
      ]
     },
     "metadata": {
      "needs_background": "light"
     },
     "output_type": "display_data"
    }
   ],
   "source": [
    "# корр матрица phik \n",
    "print('Корелляционная матрица phik для региона A')\n",
    "phik_corrs = df_intrest1.phik_matrix(interval_cols=numeric_columns)\n",
    "plot_correlation_matrix(phik_corrs.values, \n",
    "                        x_labels=phik_corrs.columns, \n",
    "                        y_labels=phik_corrs.index, \n",
    "                        vmin=0, vmax=1, color_map=\"Greens\", \n",
    "                        title=r\"correlation $\\phi_K$\", \n",
    "                        fontsize_factor=1.5, \n",
    "                        figsize=(16, 8))\n",
    "plt.tight_layout()"
   ]
  },
  {
   "cell_type": "markdown",
   "metadata": {},
   "source": [
    "**Рассмотрим взаимосвязь между критериями для первого региона A**\n",
    "\n",
    "\n",
    "критерий f0 созависим с критерием f1, величина корреляции составляет 0.76\n",
    "для целевого критерия product наблюдается зависимость от параметра f2, величина корреляции составляет 0.48"
   ]
  },
  {
   "cell_type": "code",
   "execution_count": 72,
   "metadata": {},
   "outputs": [
    {
     "name": "stdout",
     "output_type": "stream",
     "text": [
      "Корелляционная матрица phik для региона B\n"
     ]
    },
    {
     "data": {
      "image/png": "[encoded data removed]",
      "text/plain": [
       "<Figure size 1152x576 with 2 Axes>"
      ]
     },
     "metadata": {
      "needs_background": "light"
     },
     "output_type": "display_data"
    }
   ],
   "source": [
    "# корр матрица phik \n",
    "print('Корелляционная матрица phik для региона B')\n",
    "phik_corrs = df_intrest2.phik_matrix(interval_cols=numeric_columns)\n",
    "plot_correlation_matrix(phik_corrs.values, \n",
    "                        x_labels=phik_corrs.columns, \n",
    "                        y_labels=phik_corrs.index, \n",
    "                        vmin=0, vmax=1, color_map=\"Reds\", \n",
    "                        title=r\"correlation $\\phi_K$\", \n",
    "                        fontsize_factor=1.5, \n",
    "                        figsize=(16, 8))\n",
    "plt.tight_layout()"
   ]
  },
  {
   "cell_type": "markdown",
   "metadata": {},
   "source": [
    "**Рассмотрим взаимосвязь между критериями для региона B**\n",
    "\n",
    "для целевого критерия product наблюдается зависимость от параметра f2(0.98) и f0(0.63)"
   ]
  },
  {
   "cell_type": "code",
   "execution_count": 73,
   "metadata": {},
   "outputs": [
    {
     "name": "stdout",
     "output_type": "stream",
     "text": [
      "Корелляционная матрица phik для региона С\n"
     ]
    },
    {
     "data": {
      "image/png": "[encoded data removed]",
      "text/plain": [
       "<Figure size 1152x576 with 2 Axes>"
      ]
     },
     "metadata": {
      "needs_background": "light"
     },
     "output_type": "display_data"
    }
   ],
   "source": [
    "# корр матрица phik \n",
    "print('Корелляционная матрица phik для региона С')\n",
    "phik_corrs = df_intrest3.phik_matrix(interval_cols=numeric_columns)\n",
    "plot_correlation_matrix(phik_corrs.values, \n",
    "                        x_labels=phik_corrs.columns, \n",
    "                        y_labels=phik_corrs.index, \n",
    "                        vmin=0, vmax=1, color_map=\"YlOrBr\", \n",
    "                        title=r\"correlation $\\phi_K$\", \n",
    "                        fontsize_factor=1.5, \n",
    "                        figsize=(16, 8))\n",
    "plt.tight_layout()"
   ]
  },
  {
   "cell_type": "markdown",
   "metadata": {},
   "source": [
    "**Рассмотрим взаимосвязь между критериями для региона С**\n",
    "\n",
    "для целевого критерия product наблюдается зависимость от параметра f2(0.44) "
   ]
  },
  {
   "cell_type": "code",
   "execution_count": 74,
   "metadata": {},
   "outputs": [],
   "source": [
    "df_abc=pd.concat([df_intrest1,df_intrest2,df_intrest3])"
   ]
  },
  {
   "cell_type": "code",
   "execution_count": 75,
   "metadata": {},
   "outputs": [
    {
     "name": "stdout",
     "output_type": "stream",
     "text": [
      "Размер объединенного массива до сброса по IQR (296861, 5)\n"
     ]
    }
   ],
   "source": [
    "print('Размер объединенного массива до сброса по IQR',df_abc.shape)"
   ]
  },
  {
   "cell_type": "code",
   "execution_count": 76,
   "metadata": {},
   "outputs": [
    {
     "name": "stdout",
     "output_type": "stream",
     "text": [
      "Корелляционная матрица phik для объединеного массива\n"
     ]
    },
    {
     "data": {
      "image/png": "[encoded data removed]",
      "text/plain": [
       "<Figure size 1152x576 with 2 Axes>"
      ]
     },
     "metadata": {
      "needs_background": "light"
     },
     "output_type": "display_data"
    }
   ],
   "source": [
    "# корр матрица phik \n",
    "print('Корелляционная матрица phik для объединеного массива')\n",
    "phik_corrs = df_abc.phik_matrix(interval_cols=numeric_columns)\n",
    "plot_correlation_matrix(phik_corrs.values, \n",
    "                        x_labels=phik_corrs.columns, \n",
    "                        y_labels=phik_corrs.index, \n",
    "                        vmin=0, vmax=1, color_map=\"YlOrBr\", \n",
    "                        title=r\"correlation $\\phi_K$\", \n",
    "                        fontsize_factor=1.5, \n",
    "                        figsize=(16, 8))\n",
    "plt.tight_layout()"
   ]
  },
  {
   "cell_type": "markdown",
   "metadata": {},
   "source": [
    "**Рассмотрим взаимосвязь между критериями для объединенного массива ABС**\n",
    "\n",
    "Параметр category зависит от критериев f0(0.67),f1(0.69)\n",
    "Для целевого критерия product наблюдается зависимость от параметра f2(0.72) \n",
    "Параметр f1 зависит от параметра f0 (0.55)\n"
   ]
  },
  {
   "cell_type": "code",
   "execution_count": 77,
   "metadata": {},
   "outputs": [],
   "source": [
    "standart_data=df_abc\n",
    "#standart_data=standart_data.drop(['id'],axis=1)"
   ]
  },
  {
   "cell_type": "code",
   "execution_count": 78,
   "metadata": {},
   "outputs": [
    {
     "data": {
      "text/plain": [
       "Index(['f0', 'f1', 'f2', 'product', 'category'], dtype='object')"
      ]
     },
     "execution_count": 78,
     "metadata": {},
     "output_type": "execute_result"
    }
   ],
   "source": [
    "standart_data.columns"
   ]
  },
  {
   "cell_type": "markdown",
   "metadata": {},
   "source": [
    "Засплитуем standart_data обратно по регионам на st_df1,st_df2,st_df3 по полю category"
   ]
  },
  {
   "cell_type": "code",
   "execution_count": 79,
   "metadata": {},
   "outputs": [],
   "source": [
    "st_df1=standart_data[standart_data['category']=='A']\n",
    "st_df2=standart_data[standart_data['category']=='B']\n",
    "st_df3=standart_data[standart_data['category']=='C']"
   ]
  },
  {
   "cell_type": "markdown",
   "metadata": {},
   "source": [
    "Посмотрим на размеры классов по регионам"
   ]
  },
  {
   "cell_type": "code",
   "execution_count": 80,
   "metadata": {},
   "outputs": [
    {
     "name": "stdout",
     "output_type": "stream",
     "text": [
      "Размер класса А 99494\n",
      "Размер класса B 99363\n",
      "Размер класса C 98004\n"
     ]
    }
   ],
   "source": [
    "print('Размер класса А',st_df1.shape[0])\n",
    "print('Размер класса B',st_df2.shape[0])\n",
    "print('Размер класса C',st_df3.shape[0])"
   ]
  },
  {
   "cell_type": "markdown",
   "metadata": {},
   "source": [
    "Величина дисбаланса незначительна"
   ]
  },
  {
   "cell_type": "markdown",
   "metadata": {},
   "source": [
    "А теперь про деньги, введем новый столбец, назовем его crops=product*450 (объём запасов в скважине (тыс. баррелей) x 450 рублей)"
   ]
  },
  {
   "cell_type": "code",
   "execution_count": 81,
   "metadata": {},
   "outputs": [],
   "source": [
    "standart_data['crops']=standart_data['product']*450"
   ]
  },
  {
   "cell_type": "code",
   "execution_count": 82,
   "metadata": {},
   "outputs": [
    {
     "data": {
      "image/png": "[encoded data removed]",
      "text/plain": [
       "<Figure size 720x432 with 1 Axes>"
      ]
     },
     "metadata": {
      "needs_background": "light"
     },
     "output_type": "display_data"
    }
   ],
   "source": [
    "# Группируем данные по категориям A, B и C и вычисляем суммарную выручку для каждой категории\n",
    "revenue_by_category = standart_data.groupby('category')['crops'].sum()\n",
    "\n",
    "# Создаем гистограмму\n",
    "plt.figure(figsize=(10, 6))\n",
    "plt.bar(revenue_by_category.index, revenue_by_category.values, color=['blue', 'green', 'red'])\n",
    "plt.xlabel('Категория')\n",
    "plt.ylabel('Выручка от продажи нефти (в миллионах рублей)')\n",
    "plt.title('Выручка от продажи нефти по категориям региона A, B и C')\n",
    "plt.xticks(revenue_by_category.index, ['A', 'B', 'C'])\n",
    "plt.show()"
   ]
  },
  {
   "cell_type": "markdown",
   "metadata": {},
   "source": [
    "## Вывод  по блоку Подготовка данных\n",
    "\n",
    "Учитывая ограниченность информации о стоимости, бюджете и дополнительных параметрах для каждой скважины в регионе, мы рассматриваем задачу классификации с тремя классами: A, B и C. Нашей целью является предсказание, к какой из этих групп (A, B или C) относится каждая скважина в регионе. Это позволит нам определить, в каком регионе стоит добывать нефть, чтобы максимизировать прибыль и снизить риски убытков.\n",
    "\n",
    "Анализ сравнительных данных между группами:\n",
    "- Группа AB (df1, df2): Наблюдается несогласованность признаков, где значения признаков в B превышают количественно признаки в A. Это может указывать на различия в данных между этими двумя категориями и потребовать дополнительного анализа.\n",
    "- Группа AC (df1, df3): В данном случае ситуация немного лучше по критериям product и f2, которые эквивалентны между df1 и df3. Однако, по критериям f0 и f1 наблюдается количественный сдвиг в сторону df3. Также стоит учесть, что признаки f0 и f1 могут иметь взаимосвязь, что потенциально может повлиять на модель. Эти аспекты будут учтены при дальнейшем анализе, включая корреляционный анализ.\n",
    "- Группа BC (df2, df3): В этом случае также наблюдается смещение в сторону массива df3. Это может указывать на различия между этими двуми категориями, и для дальнейшего анализа данных можно воспользоваться сбросом по межквартильному размаху (IQR) для соответствующих признаков.\n",
    "\n",
    "Выбранные признаки:\n",
    "- Числовые признаки: 'f0', 'f1', 'f2', 'product'\n",
    "- Категориальный признак: 'category'\n",
    "\n",
    "Удален признак 'id'.\n",
    "\n",
    "Корреляционный анализ для регионов:\n",
    "- Регион A: Критерий f0 коррелирует с критерием f1 (коэффициент корреляции 0.76), а также с целевым критерием product (коэффициент корреляции 0.48).\n",
    "- Регион B: Для целевого критерия product наблюдается зависимость от параметра f2 (коэффициент корреляции 0.98) и f0 (коэффициент корреляции 0.63).\n",
    "- Регион C: Для целевого критерия product наблюдается зависимость от параметра f2 (коэффициент корреляции 0.44).\n",
    "\n",
    "\n",
    "**взаимосвязь между критериями для объединенного массива ABС**\n",
    "\n",
    "- Параметр category зависит от критериев f0(0.67),f1(0.69)\n",
    "- Для целевого критерия product наблюдается зависимость от параметра f2(0.72) \n",
    "- Параметр f1 зависит от параметра f0 (0.55)\n",
    "\n",
    "\n",
    "\n",
    "Понятно, что в данном случае прибыль будет зависеть от величины product, и мы можем построить модель, которая предсказывает эту величину. Бюджет служит ограничением, позволяющим нам отсеять те скважины, у которых произведение product на стоимость не превышает бюджет. Для удобства обозначим данные как `standart_data = df_abc.\n",
    "Эти аспекты будут учтены при построении моделей классификации для определения категорий скважин в каждом регионе.\n",
    "\n"
   ]
  },
  {
   "cell_type": "markdown",
   "metadata": {},
   "source": [
    "## Формирование X_train, X_valid, y_train, y_valid"
   ]
  },
  {
   "cell_type": "code",
   "execution_count": 83,
   "metadata": {},
   "outputs": [
    {
     "data": {
      "text/html": [
       "<div>\n",
       "<style scoped>\n",
       "    .dataframe tbody tr th:only-of-type {\n",
       "        vertical-align: middle;\n",
       "    }\n",
       "\n",
       "    .dataframe tbody tr th {\n",
       "        vertical-align: top;\n",
       "    }\n",
       "\n",
       "    .dataframe thead th {\n",
       "        text-align: right;\n",
       "    }\n",
       "</style>\n",
       "<table border=\"1\" class=\"dataframe\">\n",
       "  <thead>\n",
       "    <tr style=\"text-align: right;\">\n",
       "      <th></th>\n",
       "      <th>f0</th>\n",
       "      <th>f1</th>\n",
       "      <th>f2</th>\n",
       "      <th>product</th>\n",
       "      <th>category</th>\n",
       "      <th>crops</th>\n",
       "    </tr>\n",
       "  </thead>\n",
       "  <tbody>\n",
       "    <tr>\n",
       "      <th>0</th>\n",
       "      <td>0.705745</td>\n",
       "      <td>-0.497823</td>\n",
       "      <td>1.221170</td>\n",
       "      <td>105.280062</td>\n",
       "      <td>A</td>\n",
       "      <td>47376.027830</td>\n",
       "    </tr>\n",
       "    <tr>\n",
       "      <th>1</th>\n",
       "      <td>1.334711</td>\n",
       "      <td>-0.340164</td>\n",
       "      <td>4.365080</td>\n",
       "      <td>73.037750</td>\n",
       "      <td>A</td>\n",
       "      <td>32866.987619</td>\n",
       "    </tr>\n",
       "    <tr>\n",
       "      <th>2</th>\n",
       "      <td>1.022732</td>\n",
       "      <td>0.151990</td>\n",
       "      <td>1.419926</td>\n",
       "      <td>85.265647</td>\n",
       "      <td>A</td>\n",
       "      <td>38369.541209</td>\n",
       "    </tr>\n",
       "    <tr>\n",
       "      <th>3</th>\n",
       "      <td>-0.032172</td>\n",
       "      <td>0.139033</td>\n",
       "      <td>2.978566</td>\n",
       "      <td>168.620776</td>\n",
       "      <td>A</td>\n",
       "      <td>75879.349000</td>\n",
       "    </tr>\n",
       "    <tr>\n",
       "      <th>4</th>\n",
       "      <td>1.988431</td>\n",
       "      <td>0.155413</td>\n",
       "      <td>4.751769</td>\n",
       "      <td>154.036647</td>\n",
       "      <td>A</td>\n",
       "      <td>69316.491032</td>\n",
       "    </tr>\n",
       "    <tr>\n",
       "      <th>...</th>\n",
       "      <td>...</td>\n",
       "      <td>...</td>\n",
       "      <td>...</td>\n",
       "      <td>...</td>\n",
       "      <td>...</td>\n",
       "      <td>...</td>\n",
       "    </tr>\n",
       "    <tr>\n",
       "      <th>99995</th>\n",
       "      <td>-1.777037</td>\n",
       "      <td>1.125220</td>\n",
       "      <td>6.263374</td>\n",
       "      <td>172.327046</td>\n",
       "      <td>C</td>\n",
       "      <td>77547.170779</td>\n",
       "    </tr>\n",
       "    <tr>\n",
       "      <th>99996</th>\n",
       "      <td>-1.261523</td>\n",
       "      <td>-0.894828</td>\n",
       "      <td>2.524545</td>\n",
       "      <td>138.748846</td>\n",
       "      <td>C</td>\n",
       "      <td>62436.980603</td>\n",
       "    </tr>\n",
       "    <tr>\n",
       "      <th>99997</th>\n",
       "      <td>-1.199934</td>\n",
       "      <td>-2.957637</td>\n",
       "      <td>5.219411</td>\n",
       "      <td>157.080080</td>\n",
       "      <td>C</td>\n",
       "      <td>70686.035887</td>\n",
       "    </tr>\n",
       "    <tr>\n",
       "      <th>99998</th>\n",
       "      <td>-2.419896</td>\n",
       "      <td>2.417221</td>\n",
       "      <td>-5.548444</td>\n",
       "      <td>51.795253</td>\n",
       "      <td>C</td>\n",
       "      <td>23307.863847</td>\n",
       "    </tr>\n",
       "    <tr>\n",
       "      <th>99999</th>\n",
       "      <td>-2.551421</td>\n",
       "      <td>-2.025625</td>\n",
       "      <td>6.090891</td>\n",
       "      <td>102.775767</td>\n",
       "      <td>C</td>\n",
       "      <td>46249.095370</td>\n",
       "    </tr>\n",
       "  </tbody>\n",
       "</table>\n",
       "<p>296861 rows × 6 columns</p>\n",
       "</div>"
      ],
      "text/plain": [
       "             f0        f1        f2     product category         crops\n",
       "0      0.705745 -0.497823  1.221170  105.280062        A  47376.027830\n",
       "1      1.334711 -0.340164  4.365080   73.037750        A  32866.987619\n",
       "2      1.022732  0.151990  1.419926   85.265647        A  38369.541209\n",
       "3     -0.032172  0.139033  2.978566  168.620776        A  75879.349000\n",
       "4      1.988431  0.155413  4.751769  154.036647        A  69316.491032\n",
       "...         ...       ...       ...         ...      ...           ...\n",
       "99995 -1.777037  1.125220  6.263374  172.327046        C  77547.170779\n",
       "99996 -1.261523 -0.894828  2.524545  138.748846        C  62436.980603\n",
       "99997 -1.199934 -2.957637  5.219411  157.080080        C  70686.035887\n",
       "99998 -2.419896  2.417221 -5.548444   51.795253        C  23307.863847\n",
       "99999 -2.551421 -2.025625  6.090891  102.775767        C  46249.095370\n",
       "\n",
       "[296861 rows x 6 columns]"
      ]
     },
     "execution_count": 83,
     "metadata": {},
     "output_type": "execute_result"
    }
   ],
   "source": [
    "standart_data"
   ]
  },
  {
   "cell_type": "code",
   "execution_count": 84,
   "metadata": {},
   "outputs": [],
   "source": [
    "# Разбиваем данные на матрицу признаков X и вектор целевой переменной y\n",
    "X = standart_data.drop('product', axis=1)\n",
    "y = standart_data['crops']\n",
    "\n",
    "# Разбиваем данные на обучающий и валидационный наборы\n",
    "X_train, X_valid, y_train, y_valid = train_test_split(X, y, test_size=0.25, random_state=RANDOM_STATE)\n"
   ]
  },
  {
   "cell_type": "markdown",
   "metadata": {},
   "source": [
    "## Обучение и проверка модели"
   ]
  },
  {
   "cell_type": "code",
   "execution_count": 85,
   "metadata": {},
   "outputs": [],
   "source": [
    "# Пайплайн для предобработки и обучения модедли \n",
    "# Список числовых признаков\n",
    "numeric_columns = ['f0', 'f1', 'f2' ]\n",
    "\n",
    "# Список категориальных признаков\n",
    "categorical_columns = ['category']\n",
    "\n",
    "# Создание трансформера для числовых признаков\n",
    "numeric_transformer = Pipeline(steps=[\n",
    "    ('scaler', StandardScaler())\n",
    "])\n",
    "\n",
    "# Создание трансформера для категориальных признаков\n",
    "categorical_transformer = Pipeline(steps=[\n",
    "    ('onehot', OneHotEncoder())\n",
    "])\n",
    "\n",
    "# Объединение трансформеров\n",
    "preprocessor = ColumnTransformer(\n",
    "    transformers=[\n",
    "        ('num', numeric_transformer, numeric_columns),\n",
    "        ('cat', categorical_transformer, categorical_columns)\n",
    "    ])\n",
    "\n",
    "# Создание пайплайна с моделью регрессии\n",
    "pipeline = Pipeline([\n",
    "    ('preprocessor', preprocessor),\n",
    "    ('regressor', LinearRegression())  # Замена на модель регрессии\n",
    "])\n",
    "\n"
   ]
  },
  {
   "cell_type": "code",
   "execution_count": 86,
   "metadata": {},
   "outputs": [
    {
     "data": {
      "text/html": [
       "<style>#sk-container-id-2 {color: black;}#sk-container-id-2 pre{padding: 0;}#sk-container-id-2 div.sk-toggleable {background-color: white;}#sk-container-id-2 label.sk-toggleable__label {cursor: pointer;display: block;width: 100%;margin-bottom: 0;padding: 0.3em;box-sizing: border-box;text-align: center;}#sk-container-id-2 label.sk-toggleable__label-arrow:before {content: \"▸\";float: left;margin-right: 0.25em;color: #696969;}#sk-container-id-2 label.sk-toggleable__label-arrow:hover:before {color: black;}#sk-container-id-2 div.sk-estimator:hover label.sk-toggleable__label-arrow:before {color: black;}#sk-container-id-2 div.sk-toggleable__content {max-height: 0;max-width: 0;overflow: hidden;text-align: left;background-color: #f0f8ff;}#sk-container-id-2 div.sk-toggleable__content pre {margin: 0.2em;color: black;border-radius: 0.25em;background-color: #f0f8ff;}#sk-container-id-2 input.sk-toggleable__control:checked~div.sk-toggleable__content {max-height: 200px;max-width: 100%;overflow: auto;}#sk-container-id-2 input.sk-toggleable__control:checked~label.sk-toggleable__label-arrow:before {content: \"▾\";}#sk-container-id-2 div.sk-estimator input.sk-toggleable__control:checked~label.sk-toggleable__label {background-color: #d4ebff;}#sk-container-id-2 div.sk-label input.sk-toggleable__control:checked~label.sk-toggleable__label {background-color: #d4ebff;}#sk-container-id-2 input.sk-hidden--visually {border: 0;clip: rect(1px 1px 1px 1px);clip: rect(1px, 1px, 1px, 1px);height: 1px;margin: -1px;overflow: hidden;padding: 0;position: absolute;width: 1px;}#sk-container-id-2 div.sk-estimator {font-family: monospace;background-color: #f0f8ff;border: 1px dotted black;border-radius: 0.25em;box-sizing: border-box;margin-bottom: 0.5em;}#sk-container-id-2 div.sk-estimator:hover {background-color: #d4ebff;}#sk-container-id-2 div.sk-parallel-item::after {content: \"\";width: 100%;border-bottom: 1px solid gray;flex-grow: 1;}#sk-container-id-2 div.sk-label:hover label.sk-toggleable__label {background-color: #d4ebff;}#sk-container-id-2 div.sk-serial::before {content: \"\";position: absolute;border-left: 1px solid gray;box-sizing: border-box;top: 0;bottom: 0;left: 50%;z-index: 0;}#sk-container-id-2 div.sk-serial {display: flex;flex-direction: column;align-items: center;background-color: white;padding-right: 0.2em;padding-left: 0.2em;position: relative;}#sk-container-id-2 div.sk-item {position: relative;z-index: 1;}#sk-container-id-2 div.sk-parallel {display: flex;align-items: stretch;justify-content: center;background-color: white;position: relative;}#sk-container-id-2 div.sk-item::before, #sk-container-id-2 div.sk-parallel-item::before {content: \"\";position: absolute;border-left: 1px solid gray;box-sizing: border-box;top: 0;bottom: 0;left: 50%;z-index: -1;}#sk-container-id-2 div.sk-parallel-item {display: flex;flex-direction: column;z-index: 1;position: relative;background-color: white;}#sk-container-id-2 div.sk-parallel-item:first-child::after {align-self: flex-end;width: 50%;}#sk-container-id-2 div.sk-parallel-item:last-child::after {align-self: flex-start;width: 50%;}#sk-container-id-2 div.sk-parallel-item:only-child::after {width: 0;}#sk-container-id-2 div.sk-dashed-wrapped {border: 1px dashed gray;margin: 0 0.4em 0.5em 0.4em;box-sizing: border-box;padding-bottom: 0.4em;background-color: white;}#sk-container-id-2 div.sk-label label {font-family: monospace;font-weight: bold;display: inline-block;line-height: 1.2em;}#sk-container-id-2 div.sk-label-container {text-align: center;}#sk-container-id-2 div.sk-container {/* jupyter's `normalize.less` sets `[hidden] { display: none; }` but bootstrap.min.css set `[hidden] { display: none !important; }` so we also need the `!important` here to be able to override the default hidden behavior on the sphinx rendered scikit-learn.org. See: https://github.com/scikit-learn/scikit-learn/issues/21755 */display: inline-block !important;position: relative;}#sk-container-id-2 div.sk-text-repr-fallback {display: none;}</style><div id=\"sk-container-id-2\" class=\"sk-top-container\"><div class=\"sk-text-repr-fallback\"><pre>Pipeline(steps=[(&#x27;preprocessor&#x27;,\n",
       "                 ColumnTransformer(transformers=[(&#x27;num&#x27;,\n",
       "                                                  Pipeline(steps=[(&#x27;scaler&#x27;,\n",
       "                                                                   StandardScaler())]),\n",
       "                                                  [&#x27;f0&#x27;, &#x27;f1&#x27;, &#x27;f2&#x27;]),\n",
       "                                                 (&#x27;cat&#x27;,\n",
       "                                                  Pipeline(steps=[(&#x27;onehot&#x27;,\n",
       "                                                                   OneHotEncoder())]),\n",
       "                                                  [&#x27;category&#x27;])])),\n",
       "                (&#x27;regressor&#x27;, LinearRegression())])</pre><b>In a Jupyter environment, please rerun this cell to show the HTML representation or trust the notebook. <br />On GitHub, the HTML representation is unable to render, please try loading this page with nbviewer.org.</b></div><div class=\"sk-container\" hidden><div class=\"sk-item sk-dashed-wrapped\"><div class=\"sk-label-container\"><div class=\"sk-label sk-toggleable\"><input class=\"sk-toggleable__control sk-hidden--visually\" id=\"sk-estimator-id-8\" type=\"checkbox\" ><label for=\"sk-estimator-id-8\" class=\"sk-toggleable__label sk-toggleable__label-arrow\">Pipeline</label><div class=\"sk-toggleable__content\"><pre>Pipeline(steps=[(&#x27;preprocessor&#x27;,\n",
       "                 ColumnTransformer(transformers=[(&#x27;num&#x27;,\n",
       "                                                  Pipeline(steps=[(&#x27;scaler&#x27;,\n",
       "                                                                   StandardScaler())]),\n",
       "                                                  [&#x27;f0&#x27;, &#x27;f1&#x27;, &#x27;f2&#x27;]),\n",
       "                                                 (&#x27;cat&#x27;,\n",
       "                                                  Pipeline(steps=[(&#x27;onehot&#x27;,\n",
       "                                                                   OneHotEncoder())]),\n",
       "                                                  [&#x27;category&#x27;])])),\n",
       "                (&#x27;regressor&#x27;, LinearRegression())])</pre></div></div></div><div class=\"sk-serial\"><div class=\"sk-item sk-dashed-wrapped\"><div class=\"sk-label-container\"><div class=\"sk-label sk-toggleable\"><input class=\"sk-toggleable__control sk-hidden--visually\" id=\"sk-estimator-id-9\" type=\"checkbox\" ><label for=\"sk-estimator-id-9\" class=\"sk-toggleable__label sk-toggleable__label-arrow\">preprocessor: ColumnTransformer</label><div class=\"sk-toggleable__content\"><pre>ColumnTransformer(transformers=[(&#x27;num&#x27;,\n",
       "                                 Pipeline(steps=[(&#x27;scaler&#x27;, StandardScaler())]),\n",
       "                                 [&#x27;f0&#x27;, &#x27;f1&#x27;, &#x27;f2&#x27;]),\n",
       "                                (&#x27;cat&#x27;,\n",
       "                                 Pipeline(steps=[(&#x27;onehot&#x27;, OneHotEncoder())]),\n",
       "                                 [&#x27;category&#x27;])])</pre></div></div></div><div class=\"sk-parallel\"><div class=\"sk-parallel-item\"><div class=\"sk-item\"><div class=\"sk-label-container\"><div class=\"sk-label sk-toggleable\"><input class=\"sk-toggleable__control sk-hidden--visually\" id=\"sk-estimator-id-10\" type=\"checkbox\" ><label for=\"sk-estimator-id-10\" class=\"sk-toggleable__label sk-toggleable__label-arrow\">num</label><div class=\"sk-toggleable__content\"><pre>[&#x27;f0&#x27;, &#x27;f1&#x27;, &#x27;f2&#x27;]</pre></div></div></div><div class=\"sk-serial\"><div class=\"sk-item\"><div class=\"sk-serial\"><div class=\"sk-item\"><div class=\"sk-estimator sk-toggleable\"><input class=\"sk-toggleable__control sk-hidden--visually\" id=\"sk-estimator-id-11\" type=\"checkbox\" ><label for=\"sk-estimator-id-11\" class=\"sk-toggleable__label sk-toggleable__label-arrow\">StandardScaler</label><div class=\"sk-toggleable__content\"><pre>StandardScaler()</pre></div></div></div></div></div></div></div></div><div class=\"sk-parallel-item\"><div class=\"sk-item\"><div class=\"sk-label-container\"><div class=\"sk-label sk-toggleable\"><input class=\"sk-toggleable__control sk-hidden--visually\" id=\"sk-estimator-id-12\" type=\"checkbox\" ><label for=\"sk-estimator-id-12\" class=\"sk-toggleable__label sk-toggleable__label-arrow\">cat</label><div class=\"sk-toggleable__content\"><pre>[&#x27;category&#x27;]</pre></div></div></div><div class=\"sk-serial\"><div class=\"sk-item\"><div class=\"sk-serial\"><div class=\"sk-item\"><div class=\"sk-estimator sk-toggleable\"><input class=\"sk-toggleable__control sk-hidden--visually\" id=\"sk-estimator-id-13\" type=\"checkbox\" ><label for=\"sk-estimator-id-13\" class=\"sk-toggleable__label sk-toggleable__label-arrow\">OneHotEncoder</label><div class=\"sk-toggleable__content\"><pre>OneHotEncoder()</pre></div></div></div></div></div></div></div></div></div></div><div class=\"sk-item\"><div class=\"sk-estimator sk-toggleable\"><input class=\"sk-toggleable__control sk-hidden--visually\" id=\"sk-estimator-id-14\" type=\"checkbox\" ><label for=\"sk-estimator-id-14\" class=\"sk-toggleable__label sk-toggleable__label-arrow\">LinearRegression</label><div class=\"sk-toggleable__content\"><pre>LinearRegression()</pre></div></div></div></div></div></div></div>"
      ],
      "text/plain": [
       "Pipeline(steps=[('preprocessor',\n",
       "                 ColumnTransformer(transformers=[('num',\n",
       "                                                  Pipeline(steps=[('scaler',\n",
       "                                                                   StandardScaler())]),\n",
       "                                                  ['f0', 'f1', 'f2']),\n",
       "                                                 ('cat',\n",
       "                                                  Pipeline(steps=[('onehot',\n",
       "                                                                   OneHotEncoder())]),\n",
       "                                                  ['category'])])),\n",
       "                ('regressor', LinearRegression())])"
      ]
     },
     "execution_count": 86,
     "metadata": {},
     "output_type": "execute_result"
    }
   ],
   "source": [
    "pipeline.fit(X_train,y_train)"
   ]
  },
  {
   "cell_type": "markdown",
   "metadata": {},
   "source": [
    "## Метрики качества модели"
   ]
  },
  {
   "cell_type": "code",
   "execution_count": 87,
   "metadata": {},
   "outputs": [
    {
     "name": "stdout",
     "output_type": "stream",
     "text": [
      "Mean Squared Error (MSE): 283963193.77867085\n",
      "Root Mean Squared Error (RMSE): 16851.207487259508 тыс. бареллей\n",
      "R-squared (R^2): 0.350597947511039\n",
      "Mean Absolute Error (MAE): 13872.596024701877\n"
     ]
    }
   ],
   "source": [
    "# Вычисление метрик качества\n",
    "y_pred=pipeline.predict(X_valid)\n",
    "mse = mean_squared_error(y_valid, y_pred)\n",
    "rmse = mse ** 0.5\n",
    "r2 = r2_score(y_valid, y_pred)\n",
    "mae = mean_absolute_error(y_valid, y_pred)\n",
    "\n",
    "# Вывод метрик качества\n",
    "print(f'Mean Squared Error (MSE): {mse}')\n",
    "print(f'Root Mean Squared Error (RMSE): {rmse}','тыс. бареллей')\n",
    "print(f'R-squared (R^2): {r2}')\n",
    "print(f'Mean Absolute Error (MAE): {mae}')"
   ]
  },
  {
   "cell_type": "markdown",
   "metadata": {},
   "source": [
    "## Сравнение с Dummy моделью "
   ]
  },
  {
   "cell_type": "code",
   "execution_count": 88,
   "metadata": {},
   "outputs": [
    {
     "name": "stdout",
     "output_type": "stream",
     "text": [
      "Dummy Model Metrics:\n",
      "Mean Squared Error (MSE): 437272663.7024303\n",
      "Root Mean Squared Error (RMSE): 20911.065580271854\n",
      "R-squared (R^2): -9.05584617627575e-06\n",
      "Mean Absolute Error (MAE): 17640.4571674757\n",
      "Your Model Metrics:\n",
      "Mean Squared Error (MSE): 283963193.77867085\n",
      "Root Mean Squared Error (RMSE): 16851.207487259508\n",
      "R-squared (R^2): 0.350597947511039\n",
      "Mean Absolute Error (MAE): 13872.596024701877\n"
     ]
    }
   ],
   "source": [
    "\n",
    "\n",
    "# Создание Dummy-модели (среднее значение)\n",
    "dummy_model = DummyRegressor(strategy='mean')\n",
    "\n",
    "# Обучение Dummy-модели\n",
    "dummy_model.fit(X_train, y_train)\n",
    "\n",
    "# Предсказание с помощью Dummy-модели\n",
    "dummy_pred = dummy_model.predict(X_valid)\n",
    "\n",
    "# Обучение вашей модели (предположим, что вы уже создали и обучили ее)\n",
    "pipeline.fit(X_train, y_train)\n",
    "your_model_pred = pipeline.predict(X_valid)\n",
    "\n",
    "# Вычисление метрик качества для Dummy-модели\n",
    "mse_dummy = mean_squared_error(y_valid, dummy_pred)\n",
    "rmse_dummy = mse_dummy ** 0.5\n",
    "r2_dummy = r2_score(y_valid, dummy_pred)\n",
    "mae_dummy = mean_absolute_error(y_valid, dummy_pred)\n",
    "\n",
    "# Вычисление метрик качества для вашей модели\n",
    "mse_your_model = mean_squared_error(y_valid, your_model_pred)\n",
    "rmse_your_model = mse_your_model ** 0.5\n",
    "r2_your_model = r2_score(y_valid, your_model_pred)\n",
    "mae_your_model = mean_absolute_error(y_valid, your_model_pred)\n",
    "\n",
    "# Вывод метрик качества для Dummy-модели\n",
    "print(\"Dummy Model Metrics:\")\n",
    "print(f'Mean Squared Error (MSE): {mse_dummy}')\n",
    "print(f'Root Mean Squared Error (RMSE): {rmse_dummy}')\n",
    "print(f'R-squared (R^2): {r2_dummy}')\n",
    "print(f'Mean Absolute Error (MAE): {mae_dummy}')\n",
    "\n",
    "# Вывод метрик качества для вашей модели\n",
    "print(\"Your Model Metrics:\")\n",
    "print(f'Mean Squared Error (MSE): {mse_your_model}')\n",
    "print(f'Root Mean Squared Error (RMSE): {rmse_your_model}')\n",
    "print(f'R-squared (R^2): {r2_your_model}')\n",
    "print(f'Mean Absolute Error (MAE): {mae_your_model}')\n"
   ]
  },
  {
   "cell_type": "markdown",
   "metadata": {},
   "source": [
    "## Запись результатов прогнозирования "
   ]
  },
  {
   "cell_type": "code",
   "execution_count": 89,
   "metadata": {},
   "outputs": [],
   "source": [
    "standart_data['crops_predicted']=pipeline.predict(X)"
   ]
  },
  {
   "cell_type": "code",
   "execution_count": 90,
   "metadata": {},
   "outputs": [
    {
     "data": {
      "text/html": [
       "<div>\n",
       "<style scoped>\n",
       "    .dataframe tbody tr th:only-of-type {\n",
       "        vertical-align: middle;\n",
       "    }\n",
       "\n",
       "    .dataframe tbody tr th {\n",
       "        vertical-align: top;\n",
       "    }\n",
       "\n",
       "    .dataframe thead th {\n",
       "        text-align: right;\n",
       "    }\n",
       "</style>\n",
       "<table border=\"1\" class=\"dataframe\">\n",
       "  <thead>\n",
       "    <tr style=\"text-align: right;\">\n",
       "      <th></th>\n",
       "      <th>f0</th>\n",
       "      <th>f1</th>\n",
       "      <th>f2</th>\n",
       "      <th>product</th>\n",
       "      <th>category</th>\n",
       "      <th>crops</th>\n",
       "      <th>crops_predicted</th>\n",
       "    </tr>\n",
       "  </thead>\n",
       "  <tbody>\n",
       "    <tr>\n",
       "      <th>0</th>\n",
       "      <td>0.705745</td>\n",
       "      <td>-0.497823</td>\n",
       "      <td>1.221170</td>\n",
       "      <td>105.280062</td>\n",
       "      <td>A</td>\n",
       "      <td>47376.027830</td>\n",
       "      <td>36725.269812</td>\n",
       "    </tr>\n",
       "    <tr>\n",
       "      <th>1</th>\n",
       "      <td>1.334711</td>\n",
       "      <td>-0.340164</td>\n",
       "      <td>4.365080</td>\n",
       "      <td>73.037750</td>\n",
       "      <td>A</td>\n",
       "      <td>32866.987619</td>\n",
       "      <td>48976.005385</td>\n",
       "    </tr>\n",
       "    <tr>\n",
       "      <th>2</th>\n",
       "      <td>1.022732</td>\n",
       "      <td>0.151990</td>\n",
       "      <td>1.419926</td>\n",
       "      <td>85.265647</td>\n",
       "      <td>A</td>\n",
       "      <td>38369.541209</td>\n",
       "      <td>37427.423498</td>\n",
       "    </tr>\n",
       "    <tr>\n",
       "      <th>3</th>\n",
       "      <td>-0.032172</td>\n",
       "      <td>0.139033</td>\n",
       "      <td>2.978566</td>\n",
       "      <td>168.620776</td>\n",
       "      <td>A</td>\n",
       "      <td>75879.349000</td>\n",
       "      <td>43550.620608</td>\n",
       "    </tr>\n",
       "    <tr>\n",
       "      <th>4</th>\n",
       "      <td>1.988431</td>\n",
       "      <td>0.155413</td>\n",
       "      <td>4.751769</td>\n",
       "      <td>154.036647</td>\n",
       "      <td>A</td>\n",
       "      <td>69316.491032</td>\n",
       "      <td>50417.979146</td>\n",
       "    </tr>\n",
       "    <tr>\n",
       "      <th>...</th>\n",
       "      <td>...</td>\n",
       "      <td>...</td>\n",
       "      <td>...</td>\n",
       "      <td>...</td>\n",
       "      <td>...</td>\n",
       "      <td>...</td>\n",
       "      <td>...</td>\n",
       "    </tr>\n",
       "    <tr>\n",
       "      <th>99995</th>\n",
       "      <td>-1.777037</td>\n",
       "      <td>1.125220</td>\n",
       "      <td>6.263374</td>\n",
       "      <td>172.327046</td>\n",
       "      <td>C</td>\n",
       "      <td>77547.170779</td>\n",
       "      <td>57340.321271</td>\n",
       "    </tr>\n",
       "    <tr>\n",
       "      <th>99996</th>\n",
       "      <td>-1.261523</td>\n",
       "      <td>-0.894828</td>\n",
       "      <td>2.524545</td>\n",
       "      <td>138.748846</td>\n",
       "      <td>C</td>\n",
       "      <td>62436.980603</td>\n",
       "      <td>42917.450457</td>\n",
       "    </tr>\n",
       "    <tr>\n",
       "      <th>99997</th>\n",
       "      <td>-1.199934</td>\n",
       "      <td>-2.957637</td>\n",
       "      <td>5.219411</td>\n",
       "      <td>157.080080</td>\n",
       "      <td>C</td>\n",
       "      <td>70686.035887</td>\n",
       "      <td>53652.783284</td>\n",
       "    </tr>\n",
       "    <tr>\n",
       "      <th>99998</th>\n",
       "      <td>-2.419896</td>\n",
       "      <td>2.417221</td>\n",
       "      <td>-5.548444</td>\n",
       "      <td>51.795253</td>\n",
       "      <td>C</td>\n",
       "      <td>23307.863847</td>\n",
       "      <td>11073.882418</td>\n",
       "    </tr>\n",
       "    <tr>\n",
       "      <th>99999</th>\n",
       "      <td>-2.551421</td>\n",
       "      <td>-2.025625</td>\n",
       "      <td>6.090891</td>\n",
       "      <td>102.775767</td>\n",
       "      <td>C</td>\n",
       "      <td>46249.095370</td>\n",
       "      <td>57004.962136</td>\n",
       "    </tr>\n",
       "  </tbody>\n",
       "</table>\n",
       "<p>296861 rows × 7 columns</p>\n",
       "</div>"
      ],
      "text/plain": [
       "             f0        f1        f2     product category         crops  \\\n",
       "0      0.705745 -0.497823  1.221170  105.280062        A  47376.027830   \n",
       "1      1.334711 -0.340164  4.365080   73.037750        A  32866.987619   \n",
       "2      1.022732  0.151990  1.419926   85.265647        A  38369.541209   \n",
       "3     -0.032172  0.139033  2.978566  168.620776        A  75879.349000   \n",
       "4      1.988431  0.155413  4.751769  154.036647        A  69316.491032   \n",
       "...         ...       ...       ...         ...      ...           ...   \n",
       "99995 -1.777037  1.125220  6.263374  172.327046        C  77547.170779   \n",
       "99996 -1.261523 -0.894828  2.524545  138.748846        C  62436.980603   \n",
       "99997 -1.199934 -2.957637  5.219411  157.080080        C  70686.035887   \n",
       "99998 -2.419896  2.417221 -5.548444   51.795253        C  23307.863847   \n",
       "99999 -2.551421 -2.025625  6.090891  102.775767        C  46249.095370   \n",
       "\n",
       "       crops_predicted  \n",
       "0         36725.269812  \n",
       "1         48976.005385  \n",
       "2         37427.423498  \n",
       "3         43550.620608  \n",
       "4         50417.979146  \n",
       "...                ...  \n",
       "99995     57340.321271  \n",
       "99996     42917.450457  \n",
       "99997     53652.783284  \n",
       "99998     11073.882418  \n",
       "99999     57004.962136  \n",
       "\n",
       "[296861 rows x 7 columns]"
      ]
     },
     "execution_count": 90,
     "metadata": {},
     "output_type": "execute_result"
    }
   ],
   "source": [
    "standart_data"
   ]
  },
  {
   "cell_type": "code",
   "execution_count": 91,
   "metadata": {},
   "outputs": [
    {
     "data": {
      "text/html": [
       "<div>\n",
       "<style scoped>\n",
       "    .dataframe tbody tr th:only-of-type {\n",
       "        vertical-align: middle;\n",
       "    }\n",
       "\n",
       "    .dataframe tbody tr th {\n",
       "        vertical-align: top;\n",
       "    }\n",
       "\n",
       "    .dataframe thead tr th {\n",
       "        text-align: left;\n",
       "    }\n",
       "\n",
       "    .dataframe thead tr:last-of-type th {\n",
       "        text-align: right;\n",
       "    }\n",
       "</style>\n",
       "<table border=\"1\" class=\"dataframe\">\n",
       "  <thead>\n",
       "    <tr>\n",
       "      <th></th>\n",
       "      <th colspan=\"2\" halign=\"left\">Profit per Barrel (Actual)</th>\n",
       "      <th colspan=\"2\" halign=\"left\">Predicted Profit per Barrel</th>\n",
       "    </tr>\n",
       "    <tr>\n",
       "      <th></th>\n",
       "      <th>mean</th>\n",
       "      <th>median</th>\n",
       "      <th>mean</th>\n",
       "      <th>median</th>\n",
       "    </tr>\n",
       "    <tr>\n",
       "      <th>category</th>\n",
       "      <th></th>\n",
       "      <th></th>\n",
       "      <th></th>\n",
       "      <th></th>\n",
       "    </tr>\n",
       "  </thead>\n",
       "  <tbody>\n",
       "    <tr>\n",
       "      <th>A</th>\n",
       "      <td>41625.304477</td>\n",
       "      <td>41329.139725</td>\n",
       "      <td>41666.906577</td>\n",
       "      <td>41718.047117</td>\n",
       "    </tr>\n",
       "    <tr>\n",
       "      <th>B</th>\n",
       "      <td>30964.272325</td>\n",
       "      <td>25688.531091</td>\n",
       "      <td>30968.844920</td>\n",
       "      <td>30328.933432</td>\n",
       "    </tr>\n",
       "    <tr>\n",
       "      <th>C</th>\n",
       "      <td>42653.437357</td>\n",
       "      <td>42613.882704</td>\n",
       "      <td>42673.502373</td>\n",
       "      <td>42624.145398</td>\n",
       "    </tr>\n",
       "  </tbody>\n",
       "</table>\n",
       "</div>"
      ],
      "text/plain": [
       "         Profit per Barrel (Actual)               Predicted Profit per Barrel  \\\n",
       "                               mean        median                        mean   \n",
       "category                                                                        \n",
       "A                      41625.304477  41329.139725                41666.906577   \n",
       "B                      30964.272325  25688.531091                30968.844920   \n",
       "C                      42653.437357  42613.882704                42673.502373   \n",
       "\n",
       "                        \n",
       "                median  \n",
       "category                \n",
       "A         41718.047117  \n",
       "B         30328.933432  \n",
       "C         42624.145398  "
      ]
     },
     "execution_count": 91,
     "metadata": {},
     "output_type": "execute_result"
    }
   ],
   "source": [
    "# Группируем данные по 'category' и вычисляем средние и медианные значения 'crops' и 'crops_predicted'\n",
    "grouped_comparison = standart_data.groupby('category')[['crops', 'crops_predicted']].agg(['mean', 'median'])\n",
    "grouped_comparison.rename(columns={'crops': 'Profit per Barrel (Actual)', 'crops_predicted': 'Predicted Profit per Barrel'}, inplace=True)\n",
    "\n",
    "# Выводим результаты\n",
    "grouped_comparison\n"
   ]
  },
  {
   "cell_type": "markdown",
   "metadata": {},
   "source": [
    "Сделаем визуализацию"
   ]
  },
  {
   "cell_type": "code",
   "execution_count": 92,
   "metadata": {},
   "outputs": [
    {
     "data": {
      "text/html": [
       "<div>\n",
       "<style scoped>\n",
       "    .dataframe tbody tr th:only-of-type {\n",
       "        vertical-align: middle;\n",
       "    }\n",
       "\n",
       "    .dataframe tbody tr th {\n",
       "        vertical-align: top;\n",
       "    }\n",
       "\n",
       "    .dataframe thead th {\n",
       "        text-align: right;\n",
       "    }\n",
       "</style>\n",
       "<table border=\"1\" class=\"dataframe\">\n",
       "  <thead>\n",
       "    <tr style=\"text-align: right;\">\n",
       "      <th></th>\n",
       "      <th>f0</th>\n",
       "      <th>f1</th>\n",
       "      <th>f2</th>\n",
       "      <th>product</th>\n",
       "      <th>category</th>\n",
       "      <th>crops</th>\n",
       "      <th>crops_predicted</th>\n",
       "    </tr>\n",
       "  </thead>\n",
       "  <tbody>\n",
       "    <tr>\n",
       "      <th>0</th>\n",
       "      <td>0.705745</td>\n",
       "      <td>-0.497823</td>\n",
       "      <td>1.221170</td>\n",
       "      <td>105.280062</td>\n",
       "      <td>A</td>\n",
       "      <td>47376.027830</td>\n",
       "      <td>36725.269812</td>\n",
       "    </tr>\n",
       "    <tr>\n",
       "      <th>1</th>\n",
       "      <td>1.334711</td>\n",
       "      <td>-0.340164</td>\n",
       "      <td>4.365080</td>\n",
       "      <td>73.037750</td>\n",
       "      <td>A</td>\n",
       "      <td>32866.987619</td>\n",
       "      <td>48976.005385</td>\n",
       "    </tr>\n",
       "    <tr>\n",
       "      <th>2</th>\n",
       "      <td>1.022732</td>\n",
       "      <td>0.151990</td>\n",
       "      <td>1.419926</td>\n",
       "      <td>85.265647</td>\n",
       "      <td>A</td>\n",
       "      <td>38369.541209</td>\n",
       "      <td>37427.423498</td>\n",
       "    </tr>\n",
       "    <tr>\n",
       "      <th>3</th>\n",
       "      <td>-0.032172</td>\n",
       "      <td>0.139033</td>\n",
       "      <td>2.978566</td>\n",
       "      <td>168.620776</td>\n",
       "      <td>A</td>\n",
       "      <td>75879.349000</td>\n",
       "      <td>43550.620608</td>\n",
       "    </tr>\n",
       "    <tr>\n",
       "      <th>4</th>\n",
       "      <td>1.988431</td>\n",
       "      <td>0.155413</td>\n",
       "      <td>4.751769</td>\n",
       "      <td>154.036647</td>\n",
       "      <td>A</td>\n",
       "      <td>69316.491032</td>\n",
       "      <td>50417.979146</td>\n",
       "    </tr>\n",
       "    <tr>\n",
       "      <th>...</th>\n",
       "      <td>...</td>\n",
       "      <td>...</td>\n",
       "      <td>...</td>\n",
       "      <td>...</td>\n",
       "      <td>...</td>\n",
       "      <td>...</td>\n",
       "      <td>...</td>\n",
       "    </tr>\n",
       "    <tr>\n",
       "      <th>99995</th>\n",
       "      <td>-1.777037</td>\n",
       "      <td>1.125220</td>\n",
       "      <td>6.263374</td>\n",
       "      <td>172.327046</td>\n",
       "      <td>C</td>\n",
       "      <td>77547.170779</td>\n",
       "      <td>57340.321271</td>\n",
       "    </tr>\n",
       "    <tr>\n",
       "      <th>99996</th>\n",
       "      <td>-1.261523</td>\n",
       "      <td>-0.894828</td>\n",
       "      <td>2.524545</td>\n",
       "      <td>138.748846</td>\n",
       "      <td>C</td>\n",
       "      <td>62436.980603</td>\n",
       "      <td>42917.450457</td>\n",
       "    </tr>\n",
       "    <tr>\n",
       "      <th>99997</th>\n",
       "      <td>-1.199934</td>\n",
       "      <td>-2.957637</td>\n",
       "      <td>5.219411</td>\n",
       "      <td>157.080080</td>\n",
       "      <td>C</td>\n",
       "      <td>70686.035887</td>\n",
       "      <td>53652.783284</td>\n",
       "    </tr>\n",
       "    <tr>\n",
       "      <th>99998</th>\n",
       "      <td>-2.419896</td>\n",
       "      <td>2.417221</td>\n",
       "      <td>-5.548444</td>\n",
       "      <td>51.795253</td>\n",
       "      <td>C</td>\n",
       "      <td>23307.863847</td>\n",
       "      <td>11073.882418</td>\n",
       "    </tr>\n",
       "    <tr>\n",
       "      <th>99999</th>\n",
       "      <td>-2.551421</td>\n",
       "      <td>-2.025625</td>\n",
       "      <td>6.090891</td>\n",
       "      <td>102.775767</td>\n",
       "      <td>C</td>\n",
       "      <td>46249.095370</td>\n",
       "      <td>57004.962136</td>\n",
       "    </tr>\n",
       "  </tbody>\n",
       "</table>\n",
       "<p>296861 rows × 7 columns</p>\n",
       "</div>"
      ],
      "text/plain": [
       "             f0        f1        f2     product category         crops  \\\n",
       "0      0.705745 -0.497823  1.221170  105.280062        A  47376.027830   \n",
       "1      1.334711 -0.340164  4.365080   73.037750        A  32866.987619   \n",
       "2      1.022732  0.151990  1.419926   85.265647        A  38369.541209   \n",
       "3     -0.032172  0.139033  2.978566  168.620776        A  75879.349000   \n",
       "4      1.988431  0.155413  4.751769  154.036647        A  69316.491032   \n",
       "...         ...       ...       ...         ...      ...           ...   \n",
       "99995 -1.777037  1.125220  6.263374  172.327046        C  77547.170779   \n",
       "99996 -1.261523 -0.894828  2.524545  138.748846        C  62436.980603   \n",
       "99997 -1.199934 -2.957637  5.219411  157.080080        C  70686.035887   \n",
       "99998 -2.419896  2.417221 -5.548444   51.795253        C  23307.863847   \n",
       "99999 -2.551421 -2.025625  6.090891  102.775767        C  46249.095370   \n",
       "\n",
       "       crops_predicted  \n",
       "0         36725.269812  \n",
       "1         48976.005385  \n",
       "2         37427.423498  \n",
       "3         43550.620608  \n",
       "4         50417.979146  \n",
       "...                ...  \n",
       "99995     57340.321271  \n",
       "99996     42917.450457  \n",
       "99997     53652.783284  \n",
       "99998     11073.882418  \n",
       "99999     57004.962136  \n",
       "\n",
       "[296861 rows x 7 columns]"
      ]
     },
     "execution_count": 92,
     "metadata": {},
     "output_type": "execute_result"
    }
   ],
   "source": [
    "standart_data"
   ]
  },
  {
   "cell_type": "code",
   "execution_count": 93,
   "metadata": {},
   "outputs": [
    {
     "data": {
      "text/plain": [
       "0"
      ]
     },
     "execution_count": 93,
     "metadata": {},
     "output_type": "execute_result"
    }
   ],
   "source": [
    "standart_data.duplicated().sum()"
   ]
  },
  {
   "cell_type": "code",
   "execution_count": 94,
   "metadata": {},
   "outputs": [
    {
     "data": {
      "text/html": [
       "<div>\n",
       "<style scoped>\n",
       "    .dataframe tbody tr th:only-of-type {\n",
       "        vertical-align: middle;\n",
       "    }\n",
       "\n",
       "    .dataframe tbody tr th {\n",
       "        vertical-align: top;\n",
       "    }\n",
       "\n",
       "    .dataframe thead th {\n",
       "        text-align: right;\n",
       "    }\n",
       "</style>\n",
       "<table border=\"1\" class=\"dataframe\">\n",
       "  <thead>\n",
       "    <tr style=\"text-align: right;\">\n",
       "      <th></th>\n",
       "      <th>f0</th>\n",
       "      <th>f1</th>\n",
       "      <th>f2</th>\n",
       "      <th>product</th>\n",
       "      <th>category</th>\n",
       "      <th>crops</th>\n",
       "      <th>crops_predicted</th>\n",
       "    </tr>\n",
       "  </thead>\n",
       "  <tbody>\n",
       "    <tr>\n",
       "      <th>0</th>\n",
       "      <td>0.705745</td>\n",
       "      <td>-0.497823</td>\n",
       "      <td>1.221170</td>\n",
       "      <td>105.280062</td>\n",
       "      <td>A</td>\n",
       "      <td>47376.027830</td>\n",
       "      <td>36725.269812</td>\n",
       "    </tr>\n",
       "    <tr>\n",
       "      <th>1</th>\n",
       "      <td>1.334711</td>\n",
       "      <td>-0.340164</td>\n",
       "      <td>4.365080</td>\n",
       "      <td>73.037750</td>\n",
       "      <td>A</td>\n",
       "      <td>32866.987619</td>\n",
       "      <td>48976.005385</td>\n",
       "    </tr>\n",
       "    <tr>\n",
       "      <th>2</th>\n",
       "      <td>1.022732</td>\n",
       "      <td>0.151990</td>\n",
       "      <td>1.419926</td>\n",
       "      <td>85.265647</td>\n",
       "      <td>A</td>\n",
       "      <td>38369.541209</td>\n",
       "      <td>37427.423498</td>\n",
       "    </tr>\n",
       "    <tr>\n",
       "      <th>3</th>\n",
       "      <td>-0.032172</td>\n",
       "      <td>0.139033</td>\n",
       "      <td>2.978566</td>\n",
       "      <td>168.620776</td>\n",
       "      <td>A</td>\n",
       "      <td>75879.349000</td>\n",
       "      <td>43550.620608</td>\n",
       "    </tr>\n",
       "    <tr>\n",
       "      <th>4</th>\n",
       "      <td>1.988431</td>\n",
       "      <td>0.155413</td>\n",
       "      <td>4.751769</td>\n",
       "      <td>154.036647</td>\n",
       "      <td>A</td>\n",
       "      <td>69316.491032</td>\n",
       "      <td>50417.979146</td>\n",
       "    </tr>\n",
       "    <tr>\n",
       "      <th>...</th>\n",
       "      <td>...</td>\n",
       "      <td>...</td>\n",
       "      <td>...</td>\n",
       "      <td>...</td>\n",
       "      <td>...</td>\n",
       "      <td>...</td>\n",
       "      <td>...</td>\n",
       "    </tr>\n",
       "    <tr>\n",
       "      <th>99995</th>\n",
       "      <td>-1.777037</td>\n",
       "      <td>1.125220</td>\n",
       "      <td>6.263374</td>\n",
       "      <td>172.327046</td>\n",
       "      <td>C</td>\n",
       "      <td>77547.170779</td>\n",
       "      <td>57340.321271</td>\n",
       "    </tr>\n",
       "    <tr>\n",
       "      <th>99996</th>\n",
       "      <td>-1.261523</td>\n",
       "      <td>-0.894828</td>\n",
       "      <td>2.524545</td>\n",
       "      <td>138.748846</td>\n",
       "      <td>C</td>\n",
       "      <td>62436.980603</td>\n",
       "      <td>42917.450457</td>\n",
       "    </tr>\n",
       "    <tr>\n",
       "      <th>99997</th>\n",
       "      <td>-1.199934</td>\n",
       "      <td>-2.957637</td>\n",
       "      <td>5.219411</td>\n",
       "      <td>157.080080</td>\n",
       "      <td>C</td>\n",
       "      <td>70686.035887</td>\n",
       "      <td>53652.783284</td>\n",
       "    </tr>\n",
       "    <tr>\n",
       "      <th>99998</th>\n",
       "      <td>-2.419896</td>\n",
       "      <td>2.417221</td>\n",
       "      <td>-5.548444</td>\n",
       "      <td>51.795253</td>\n",
       "      <td>C</td>\n",
       "      <td>23307.863847</td>\n",
       "      <td>11073.882418</td>\n",
       "    </tr>\n",
       "    <tr>\n",
       "      <th>99999</th>\n",
       "      <td>-2.551421</td>\n",
       "      <td>-2.025625</td>\n",
       "      <td>6.090891</td>\n",
       "      <td>102.775767</td>\n",
       "      <td>C</td>\n",
       "      <td>46249.095370</td>\n",
       "      <td>57004.962136</td>\n",
       "    </tr>\n",
       "  </tbody>\n",
       "</table>\n",
       "<p>296861 rows × 7 columns</p>\n",
       "</div>"
      ],
      "text/plain": [
       "             f0        f1        f2     product category         crops  \\\n",
       "0      0.705745 -0.497823  1.221170  105.280062        A  47376.027830   \n",
       "1      1.334711 -0.340164  4.365080   73.037750        A  32866.987619   \n",
       "2      1.022732  0.151990  1.419926   85.265647        A  38369.541209   \n",
       "3     -0.032172  0.139033  2.978566  168.620776        A  75879.349000   \n",
       "4      1.988431  0.155413  4.751769  154.036647        A  69316.491032   \n",
       "...         ...       ...       ...         ...      ...           ...   \n",
       "99995 -1.777037  1.125220  6.263374  172.327046        C  77547.170779   \n",
       "99996 -1.261523 -0.894828  2.524545  138.748846        C  62436.980603   \n",
       "99997 -1.199934 -2.957637  5.219411  157.080080        C  70686.035887   \n",
       "99998 -2.419896  2.417221 -5.548444   51.795253        C  23307.863847   \n",
       "99999 -2.551421 -2.025625  6.090891  102.775767        C  46249.095370   \n",
       "\n",
       "       crops_predicted  \n",
       "0         36725.269812  \n",
       "1         48976.005385  \n",
       "2         37427.423498  \n",
       "3         43550.620608  \n",
       "4         50417.979146  \n",
       "...                ...  \n",
       "99995     57340.321271  \n",
       "99996     42917.450457  \n",
       "99997     53652.783284  \n",
       "99998     11073.882418  \n",
       "99999     57004.962136  \n",
       "\n",
       "[296861 rows x 7 columns]"
      ]
     },
     "execution_count": 94,
     "metadata": {},
     "output_type": "execute_result"
    }
   ],
   "source": [
    "standart_data"
   ]
  },
  {
   "cell_type": "code",
   "execution_count": 95,
   "metadata": {},
   "outputs": [
    {
     "data": {
      "text/html": [
       "<div>\n",
       "<style scoped>\n",
       "    .dataframe tbody tr th:only-of-type {\n",
       "        vertical-align: middle;\n",
       "    }\n",
       "\n",
       "    .dataframe tbody tr th {\n",
       "        vertical-align: top;\n",
       "    }\n",
       "\n",
       "    .dataframe thead th {\n",
       "        text-align: right;\n",
       "    }\n",
       "</style>\n",
       "<table border=\"1\" class=\"dataframe\">\n",
       "  <thead>\n",
       "    <tr style=\"text-align: right;\">\n",
       "      <th></th>\n",
       "      <th>f0</th>\n",
       "      <th>f1</th>\n",
       "      <th>f2</th>\n",
       "      <th>product</th>\n",
       "      <th>category</th>\n",
       "      <th>crops</th>\n",
       "      <th>crops_predicted</th>\n",
       "    </tr>\n",
       "  </thead>\n",
       "  <tbody>\n",
       "    <tr>\n",
       "      <th>0</th>\n",
       "      <td>0.705745</td>\n",
       "      <td>-0.497823</td>\n",
       "      <td>1.221170</td>\n",
       "      <td>105.280062</td>\n",
       "      <td>A</td>\n",
       "      <td>47376.027830</td>\n",
       "      <td>36725.269812</td>\n",
       "    </tr>\n",
       "    <tr>\n",
       "      <th>1</th>\n",
       "      <td>1.334711</td>\n",
       "      <td>-0.340164</td>\n",
       "      <td>4.365080</td>\n",
       "      <td>73.037750</td>\n",
       "      <td>A</td>\n",
       "      <td>32866.987619</td>\n",
       "      <td>48976.005385</td>\n",
       "    </tr>\n",
       "    <tr>\n",
       "      <th>2</th>\n",
       "      <td>1.022732</td>\n",
       "      <td>0.151990</td>\n",
       "      <td>1.419926</td>\n",
       "      <td>85.265647</td>\n",
       "      <td>A</td>\n",
       "      <td>38369.541209</td>\n",
       "      <td>37427.423498</td>\n",
       "    </tr>\n",
       "    <tr>\n",
       "      <th>3</th>\n",
       "      <td>-0.032172</td>\n",
       "      <td>0.139033</td>\n",
       "      <td>2.978566</td>\n",
       "      <td>168.620776</td>\n",
       "      <td>A</td>\n",
       "      <td>75879.349000</td>\n",
       "      <td>43550.620608</td>\n",
       "    </tr>\n",
       "    <tr>\n",
       "      <th>4</th>\n",
       "      <td>1.988431</td>\n",
       "      <td>0.155413</td>\n",
       "      <td>4.751769</td>\n",
       "      <td>154.036647</td>\n",
       "      <td>A</td>\n",
       "      <td>69316.491032</td>\n",
       "      <td>50417.979146</td>\n",
       "    </tr>\n",
       "    <tr>\n",
       "      <th>...</th>\n",
       "      <td>...</td>\n",
       "      <td>...</td>\n",
       "      <td>...</td>\n",
       "      <td>...</td>\n",
       "      <td>...</td>\n",
       "      <td>...</td>\n",
       "      <td>...</td>\n",
       "    </tr>\n",
       "    <tr>\n",
       "      <th>99995</th>\n",
       "      <td>-1.777037</td>\n",
       "      <td>1.125220</td>\n",
       "      <td>6.263374</td>\n",
       "      <td>172.327046</td>\n",
       "      <td>C</td>\n",
       "      <td>77547.170779</td>\n",
       "      <td>57340.321271</td>\n",
       "    </tr>\n",
       "    <tr>\n",
       "      <th>99996</th>\n",
       "      <td>-1.261523</td>\n",
       "      <td>-0.894828</td>\n",
       "      <td>2.524545</td>\n",
       "      <td>138.748846</td>\n",
       "      <td>C</td>\n",
       "      <td>62436.980603</td>\n",
       "      <td>42917.450457</td>\n",
       "    </tr>\n",
       "    <tr>\n",
       "      <th>99997</th>\n",
       "      <td>-1.199934</td>\n",
       "      <td>-2.957637</td>\n",
       "      <td>5.219411</td>\n",
       "      <td>157.080080</td>\n",
       "      <td>C</td>\n",
       "      <td>70686.035887</td>\n",
       "      <td>53652.783284</td>\n",
       "    </tr>\n",
       "    <tr>\n",
       "      <th>99998</th>\n",
       "      <td>-2.419896</td>\n",
       "      <td>2.417221</td>\n",
       "      <td>-5.548444</td>\n",
       "      <td>51.795253</td>\n",
       "      <td>C</td>\n",
       "      <td>23307.863847</td>\n",
       "      <td>11073.882418</td>\n",
       "    </tr>\n",
       "    <tr>\n",
       "      <th>99999</th>\n",
       "      <td>-2.551421</td>\n",
       "      <td>-2.025625</td>\n",
       "      <td>6.090891</td>\n",
       "      <td>102.775767</td>\n",
       "      <td>C</td>\n",
       "      <td>46249.095370</td>\n",
       "      <td>57004.962136</td>\n",
       "    </tr>\n",
       "  </tbody>\n",
       "</table>\n",
       "<p>296861 rows × 7 columns</p>\n",
       "</div>"
      ],
      "text/plain": [
       "             f0        f1        f2     product category         crops  \\\n",
       "0      0.705745 -0.497823  1.221170  105.280062        A  47376.027830   \n",
       "1      1.334711 -0.340164  4.365080   73.037750        A  32866.987619   \n",
       "2      1.022732  0.151990  1.419926   85.265647        A  38369.541209   \n",
       "3     -0.032172  0.139033  2.978566  168.620776        A  75879.349000   \n",
       "4      1.988431  0.155413  4.751769  154.036647        A  69316.491032   \n",
       "...         ...       ...       ...         ...      ...           ...   \n",
       "99995 -1.777037  1.125220  6.263374  172.327046        C  77547.170779   \n",
       "99996 -1.261523 -0.894828  2.524545  138.748846        C  62436.980603   \n",
       "99997 -1.199934 -2.957637  5.219411  157.080080        C  70686.035887   \n",
       "99998 -2.419896  2.417221 -5.548444   51.795253        C  23307.863847   \n",
       "99999 -2.551421 -2.025625  6.090891  102.775767        C  46249.095370   \n",
       "\n",
       "       crops_predicted  \n",
       "0         36725.269812  \n",
       "1         48976.005385  \n",
       "2         37427.423498  \n",
       "3         43550.620608  \n",
       "4         50417.979146  \n",
       "...                ...  \n",
       "99995     57340.321271  \n",
       "99996     42917.450457  \n",
       "99997     53652.783284  \n",
       "99998     11073.882418  \n",
       "99999     57004.962136  \n",
       "\n",
       "[296861 rows x 7 columns]"
      ]
     },
     "execution_count": 95,
     "metadata": {},
     "output_type": "execute_result"
    }
   ],
   "source": [
    "standart_data"
   ]
  },
  {
   "cell_type": "code",
   "execution_count": 96,
   "metadata": {},
   "outputs": [],
   "source": [
    "standart_data['volume_actual']=standart_data['crops']/450\n",
    "standart_data['volume_predicted']=standart_data['crops_predicted']/450\n"
   ]
  },
  {
   "cell_type": "code",
   "execution_count": 97,
   "metadata": {},
   "outputs": [
    {
     "data": {
      "text/html": [
       "<div>\n",
       "<style scoped>\n",
       "    .dataframe tbody tr th:only-of-type {\n",
       "        vertical-align: middle;\n",
       "    }\n",
       "\n",
       "    .dataframe tbody tr th {\n",
       "        vertical-align: top;\n",
       "    }\n",
       "\n",
       "    .dataframe thead th {\n",
       "        text-align: right;\n",
       "    }\n",
       "</style>\n",
       "<table border=\"1\" class=\"dataframe\">\n",
       "  <thead>\n",
       "    <tr style=\"text-align: right;\">\n",
       "      <th></th>\n",
       "      <th>f0</th>\n",
       "      <th>f1</th>\n",
       "      <th>f2</th>\n",
       "      <th>product</th>\n",
       "      <th>category</th>\n",
       "      <th>crops</th>\n",
       "      <th>crops_predicted</th>\n",
       "      <th>volume_actual</th>\n",
       "      <th>volume_predicted</th>\n",
       "    </tr>\n",
       "  </thead>\n",
       "  <tbody>\n",
       "    <tr>\n",
       "      <th>0</th>\n",
       "      <td>0.705745</td>\n",
       "      <td>-0.497823</td>\n",
       "      <td>1.221170</td>\n",
       "      <td>105.280062</td>\n",
       "      <td>A</td>\n",
       "      <td>47376.027830</td>\n",
       "      <td>36725.269812</td>\n",
       "      <td>105.280062</td>\n",
       "      <td>81.611711</td>\n",
       "    </tr>\n",
       "    <tr>\n",
       "      <th>1</th>\n",
       "      <td>1.334711</td>\n",
       "      <td>-0.340164</td>\n",
       "      <td>4.365080</td>\n",
       "      <td>73.037750</td>\n",
       "      <td>A</td>\n",
       "      <td>32866.987619</td>\n",
       "      <td>48976.005385</td>\n",
       "      <td>73.037750</td>\n",
       "      <td>108.835568</td>\n",
       "    </tr>\n",
       "    <tr>\n",
       "      <th>2</th>\n",
       "      <td>1.022732</td>\n",
       "      <td>0.151990</td>\n",
       "      <td>1.419926</td>\n",
       "      <td>85.265647</td>\n",
       "      <td>A</td>\n",
       "      <td>38369.541209</td>\n",
       "      <td>37427.423498</td>\n",
       "      <td>85.265647</td>\n",
       "      <td>83.172052</td>\n",
       "    </tr>\n",
       "    <tr>\n",
       "      <th>3</th>\n",
       "      <td>-0.032172</td>\n",
       "      <td>0.139033</td>\n",
       "      <td>2.978566</td>\n",
       "      <td>168.620776</td>\n",
       "      <td>A</td>\n",
       "      <td>75879.349000</td>\n",
       "      <td>43550.620608</td>\n",
       "      <td>168.620776</td>\n",
       "      <td>96.779157</td>\n",
       "    </tr>\n",
       "    <tr>\n",
       "      <th>4</th>\n",
       "      <td>1.988431</td>\n",
       "      <td>0.155413</td>\n",
       "      <td>4.751769</td>\n",
       "      <td>154.036647</td>\n",
       "      <td>A</td>\n",
       "      <td>69316.491032</td>\n",
       "      <td>50417.979146</td>\n",
       "      <td>154.036647</td>\n",
       "      <td>112.039954</td>\n",
       "    </tr>\n",
       "    <tr>\n",
       "      <th>...</th>\n",
       "      <td>...</td>\n",
       "      <td>...</td>\n",
       "      <td>...</td>\n",
       "      <td>...</td>\n",
       "      <td>...</td>\n",
       "      <td>...</td>\n",
       "      <td>...</td>\n",
       "      <td>...</td>\n",
       "      <td>...</td>\n",
       "    </tr>\n",
       "    <tr>\n",
       "      <th>99995</th>\n",
       "      <td>-1.777037</td>\n",
       "      <td>1.125220</td>\n",
       "      <td>6.263374</td>\n",
       "      <td>172.327046</td>\n",
       "      <td>C</td>\n",
       "      <td>77547.170779</td>\n",
       "      <td>57340.321271</td>\n",
       "      <td>172.327046</td>\n",
       "      <td>127.422936</td>\n",
       "    </tr>\n",
       "    <tr>\n",
       "      <th>99996</th>\n",
       "      <td>-1.261523</td>\n",
       "      <td>-0.894828</td>\n",
       "      <td>2.524545</td>\n",
       "      <td>138.748846</td>\n",
       "      <td>C</td>\n",
       "      <td>62436.980603</td>\n",
       "      <td>42917.450457</td>\n",
       "      <td>138.748846</td>\n",
       "      <td>95.372112</td>\n",
       "    </tr>\n",
       "    <tr>\n",
       "      <th>99997</th>\n",
       "      <td>-1.199934</td>\n",
       "      <td>-2.957637</td>\n",
       "      <td>5.219411</td>\n",
       "      <td>157.080080</td>\n",
       "      <td>C</td>\n",
       "      <td>70686.035887</td>\n",
       "      <td>53652.783284</td>\n",
       "      <td>157.080080</td>\n",
       "      <td>119.228407</td>\n",
       "    </tr>\n",
       "    <tr>\n",
       "      <th>99998</th>\n",
       "      <td>-2.419896</td>\n",
       "      <td>2.417221</td>\n",
       "      <td>-5.548444</td>\n",
       "      <td>51.795253</td>\n",
       "      <td>C</td>\n",
       "      <td>23307.863847</td>\n",
       "      <td>11073.882418</td>\n",
       "      <td>51.795253</td>\n",
       "      <td>24.608628</td>\n",
       "    </tr>\n",
       "    <tr>\n",
       "      <th>99999</th>\n",
       "      <td>-2.551421</td>\n",
       "      <td>-2.025625</td>\n",
       "      <td>6.090891</td>\n",
       "      <td>102.775767</td>\n",
       "      <td>C</td>\n",
       "      <td>46249.095370</td>\n",
       "      <td>57004.962136</td>\n",
       "      <td>102.775767</td>\n",
       "      <td>126.677694</td>\n",
       "    </tr>\n",
       "  </tbody>\n",
       "</table>\n",
       "<p>296861 rows × 9 columns</p>\n",
       "</div>"
      ],
      "text/plain": [
       "             f0        f1        f2     product category         crops  \\\n",
       "0      0.705745 -0.497823  1.221170  105.280062        A  47376.027830   \n",
       "1      1.334711 -0.340164  4.365080   73.037750        A  32866.987619   \n",
       "2      1.022732  0.151990  1.419926   85.265647        A  38369.541209   \n",
       "3     -0.032172  0.139033  2.978566  168.620776        A  75879.349000   \n",
       "4      1.988431  0.155413  4.751769  154.036647        A  69316.491032   \n",
       "...         ...       ...       ...         ...      ...           ...   \n",
       "99995 -1.777037  1.125220  6.263374  172.327046        C  77547.170779   \n",
       "99996 -1.261523 -0.894828  2.524545  138.748846        C  62436.980603   \n",
       "99997 -1.199934 -2.957637  5.219411  157.080080        C  70686.035887   \n",
       "99998 -2.419896  2.417221 -5.548444   51.795253        C  23307.863847   \n",
       "99999 -2.551421 -2.025625  6.090891  102.775767        C  46249.095370   \n",
       "\n",
       "       crops_predicted  volume_actual  volume_predicted  \n",
       "0         36725.269812     105.280062         81.611711  \n",
       "1         48976.005385      73.037750        108.835568  \n",
       "2         37427.423498      85.265647         83.172052  \n",
       "3         43550.620608     168.620776         96.779157  \n",
       "4         50417.979146     154.036647        112.039954  \n",
       "...                ...            ...               ...  \n",
       "99995     57340.321271     172.327046        127.422936  \n",
       "99996     42917.450457     138.748846         95.372112  \n",
       "99997     53652.783284     157.080080        119.228407  \n",
       "99998     11073.882418      51.795253         24.608628  \n",
       "99999     57004.962136     102.775767        126.677694  \n",
       "\n",
       "[296861 rows x 9 columns]"
      ]
     },
     "execution_count": 97,
     "metadata": {},
     "output_type": "execute_result"
    }
   ],
   "source": [
    "standart_data"
   ]
  },
  {
   "cell_type": "code",
   "execution_count": 98,
   "metadata": {},
   "outputs": [
    {
     "data": {
      "text/html": [
       "<div>\n",
       "<style scoped>\n",
       "    .dataframe tbody tr th:only-of-type {\n",
       "        vertical-align: middle;\n",
       "    }\n",
       "\n",
       "    .dataframe tbody tr th {\n",
       "        vertical-align: top;\n",
       "    }\n",
       "\n",
       "    .dataframe thead tr th {\n",
       "        text-align: left;\n",
       "    }\n",
       "\n",
       "    .dataframe thead tr:last-of-type th {\n",
       "        text-align: right;\n",
       "    }\n",
       "</style>\n",
       "<table border=\"1\" class=\"dataframe\">\n",
       "  <thead>\n",
       "    <tr>\n",
       "      <th></th>\n",
       "      <th colspan=\"2\" halign=\"left\">volume_actual</th>\n",
       "      <th colspan=\"2\" halign=\"left\">volume_predicted</th>\n",
       "    </tr>\n",
       "    <tr>\n",
       "      <th></th>\n",
       "      <th>mean</th>\n",
       "      <th>median</th>\n",
       "      <th>mean</th>\n",
       "      <th>median</th>\n",
       "    </tr>\n",
       "    <tr>\n",
       "      <th>category</th>\n",
       "      <th></th>\n",
       "      <th></th>\n",
       "      <th></th>\n",
       "      <th></th>\n",
       "    </tr>\n",
       "  </thead>\n",
       "  <tbody>\n",
       "    <tr>\n",
       "      <th>A</th>\n",
       "      <td>92.500677</td>\n",
       "      <td>91.842533</td>\n",
       "      <td>92.593126</td>\n",
       "      <td>92.706771</td>\n",
       "    </tr>\n",
       "    <tr>\n",
       "      <th>B</th>\n",
       "      <td>68.809494</td>\n",
       "      <td>57.085625</td>\n",
       "      <td>68.819655</td>\n",
       "      <td>67.397630</td>\n",
       "    </tr>\n",
       "    <tr>\n",
       "      <th>C</th>\n",
       "      <td>94.785416</td>\n",
       "      <td>94.697517</td>\n",
       "      <td>94.830005</td>\n",
       "      <td>94.720323</td>\n",
       "    </tr>\n",
       "  </tbody>\n",
       "</table>\n",
       "</div>"
      ],
      "text/plain": [
       "         volume_actual            volume_predicted           \n",
       "                  mean     median             mean     median\n",
       "category                                                     \n",
       "A            92.500677  91.842533        92.593126  92.706771\n",
       "B            68.809494  57.085625        68.819655  67.397630\n",
       "C            94.785416  94.697517        94.830005  94.720323"
      ]
     },
     "execution_count": 98,
     "metadata": {},
     "output_type": "execute_result"
    }
   ],
   "source": [
    "grouped_data = standart_data.groupby('category')[['volume_actual', 'volume_predicted']].agg(['mean', 'median'])\n",
    "grouped_data\n"
   ]
  },
  {
   "cell_type": "markdown",
   "metadata": {},
   "source": [
    "## Вывод по блоку обучение и подготовка моделей:\n",
    "\n",
    "**Dummy модель :**\n",
    "- Mean Squared Error (MSE): 437,272,663.70 - Величина, отражающая среднеквадратичное отклонение фактических и предсказанных значений. Значение MSE у Dummy-модели высокое, что указывает на большую дисперсию ошибок.\n",
    "- Root Mean Squared Error (RMSE): 20,911.07 - Корень из среднеквадратичной ошибки. RMSE также высок и указывает на среднее абсолютное отклонение предсказанных значений от фактических.\n",
    "- R-squared (R^2): -0.00000906 - Коэффициент детерминации. Он близок к нулю, что означает, что Dummy-модель не объясняет вариацию в данных.\n",
    "- Mean Absolute Error (MAE): 17,640.46 - Среднее абсолютное отклонение. MAE также высокое, что указывает на среднее абсолютное отклонение фактических значений от предсказанных.\n",
    "\n",
    "**Наша модель:**\n",
    "- Mean Squared Error (MSE): 283,963,193.78 - MSE для нашей модели. Он ниже, чем у Dummy-модели, что говорит о лучшей точности предсказаний.\n",
    "- Root Mean Squared Error (RMSE): 16,851.21 - RMSE также ниже, что указывает на более точные предсказания.\n",
    "- R-squared (R^2): 0.3506 - Коэффициент детерминации для нашей модели. Значение 0.35 указывает на то, что ваша модель объясняет примерно 35% вариации в данных.\n",
    "- Mean Absolute Error (MAE): 13,872.60 - MAE для нашей модели. Он также ниже, что указывает на меньшее среднее абсолютное отклонение предсказаний от фактических значений.\n",
    "\n",
    "Модель показывает более точные и объяснимые предсказания по сравнению с Dummy-моделью, что делает ее более подходящей для решения задачи."
   ]
  },
  {
   "cell_type": "markdown",
   "metadata": {},
   "source": [
    "Статистические  данные по объему прибыли из расчета 450 рублей за баррель, тыс.рублей "
   ]
  },
  {
   "attachments": {
    "image.png": {
     "image/png": "[encoded data removed]"
    }
   },
   "cell_type": "markdown",
   "metadata": {},
   "source": [
    "![image.png](attachment:image.png)"
   ]
  },
  {
   "cell_type": "markdown",
   "metadata": {},
   "source": [
    "Статистические данные по объему запасов тыс. баррелей"
   ]
  },
  {
   "attachments": {
    "image.png": {
     "image/png": "[encoded data removed]"
    }
   },
   "cell_type": "markdown",
   "metadata": {},
   "source": [
    "![image.png](attachment:image.png)"
   ]
  },
  {
   "cell_type": "markdown",
   "metadata": {},
   "source": [
    "## Расчёт прибыли и рисков "
   ]
  },
  {
   "cell_type": "code",
   "execution_count": 99,
   "metadata": {},
   "outputs": [
    {
     "name": "stdout",
     "output_type": "stream",
     "text": [
      "Среднее значение предсказанного объема для региона А: 92.5931257269285 тыс. баррелей\n"
     ]
    }
   ],
   "source": [
    "print('Среднее значение предсказанного объема для региона А:', \n",
    "      standart_data[standart_data['category']=='A']['volume_predicted'].mean(), 'тыс. баррелей')\n"
   ]
  },
  {
   "cell_type": "code",
   "execution_count": 100,
   "metadata": {},
   "outputs": [
    {
     "name": "stdout",
     "output_type": "stream",
     "text": [
      "Среднее значение предсказанного объема для региона B: 68.81965537756679 тыс. баррелей\n"
     ]
    }
   ],
   "source": [
    "print('Среднее значение предсказанного объема для региона B:', \n",
    "      standart_data[standart_data['category']=='B']['volume_predicted'].mean(), 'тыс. баррелей')"
   ]
  },
  {
   "cell_type": "code",
   "execution_count": 101,
   "metadata": {},
   "outputs": [
    {
     "name": "stdout",
     "output_type": "stream",
     "text": [
      "Среднее значение предсказанного объема для региона С: 94.83000527415894 тыс. баррелей\n"
     ]
    }
   ],
   "source": [
    "print('Среднее значение предсказанного объема для региона С:', \n",
    "      standart_data[standart_data['category']=='C']['volume_predicted'].mean(), 'тыс. баррелей')"
   ]
  },
  {
   "cell_type": "code",
   "execution_count": 102,
   "metadata": {},
   "outputs": [],
   "source": [
    "#CONSTANTS\n",
    "BUDGET=10_000_000_000\n",
    "SAMPLE = 500\n",
    "BEST_SAMPLE = 200\n",
    "PRICE_POINT_MIN=BUDGET/SAMPLE #минимальная цена точки\n",
    "PRICE_POINT_MAX=BUDGET/BEST_SAMPLE #максимальная цена точки\n",
    " #выборка 500 точек\n",
    " #выборка 200 лучших точек\n",
    "BARREL_PRICE = 450 # цена барреля\n",
    " #бюджет\n",
    "PRODUCT_VOLUME_MIN=PRICE_POINT_MIN/BARREL_PRICE\n",
    "PRODUCT_VOLUME_MAX=PRICE_POINT_MAX/BARREL_PRICE\n",
    "PRODUCT_VOLUME_MIN_SUM=PRODUCT_VOLUME_MIN*SAMPLE\n",
    "\n",
    "PRODUCT_VOLUME_MAX_SUM=PRODUCT_VOLUME_MAX*BEST_SAMPLE\n"
   ]
  },
  {
   "cell_type": "code",
   "execution_count": 103,
   "metadata": {},
   "outputs": [],
   "source": [
    "def revenue(target, probabilities, count):\n",
    "    probs_sorted = probabilities.sort_values(ascending=False)\n",
    "    selected = target[probs_sorted.index][:count]\n",
    "    \n",
    "    return (selected.sum() * BARREL_PRICE * 1000) - BUDGET\n",
    "\n",
    "state = np.random.RandomState(12345)\n",
    "def bootstrap_1000(df_target, df_predicted):\n",
    "    values = []\n",
    "    lost = 0\n",
    "    for i in range(1000):\n",
    "        target_sample = df_target.sample(replace=True, random_state=state, n=SAMPLE)\n",
    "        probs_sample = df_predicted[target_sample.index]\n",
    "        profit = revenue(target_sample, probs_sample, BEST_SAMPLE)\n",
    "        if profit < 0:\n",
    "            lost += 1\n",
    "        values.append(profit)\n",
    "    \n",
    "    values = pd.Series(values)\n",
    "    lower = values.quantile(0.025)\n",
    "    upper = values.quantile(0.975)\n",
    "    average = values.mean()\n",
    "    risk = (values < 0).mean() * 100 \n",
    "    return average, lower, upper, risk\n"
   ]
  },
  {
   "cell_type": "code",
   "execution_count": 104,
   "metadata": {},
   "outputs": [],
   "source": [
    "# Подготовили таргеты и предикты по регионам\n",
    "# Регион А\n",
    "a_target = pd.Series(standart_data[standart_data['category'] == 'A']['crops'], \n",
    "                     index=standart_data[standart_data['category'] == 'A'].index)\n",
    "a_predicted = pd.Series(standart_data[standart_data['category'] == 'A']['crops_predicted'],\n",
    "                        index=standart_data[standart_data['category'] == 'A'].index)\n",
    "# Регион B\n",
    "b_target = pd.Series(standart_data[standart_data['category'] == 'B']['crops'],\n",
    "                     index=standart_data[standart_data['category'] == 'B'].index)\n",
    "b_predicted = pd.Series(standart_data[standart_data['category'] == 'B']['crops_predicted'],\n",
    "                        index=standart_data[standart_data['category'] == 'B'].index)\n",
    "# Регион С\n",
    "c_target = pd.Series(standart_data[standart_data['category'] == 'C']['crops'],\n",
    "                     index=standart_data[standart_data['category'] == 'C'].index)\n",
    "c_predicted = pd.Series(standart_data[standart_data['category'] == 'C']['crops_predicted'],\n",
    "                        index=standart_data[standart_data['category'] == 'C'].index)\n"
   ]
  },
  {
   "cell_type": "code",
   "execution_count": 105,
   "metadata": {},
   "outputs": [],
   "source": [
    "#Подготовили таргеты и предикты по регионам \n",
    "\n",
    "A = pd.DataFrame([bootstrap_1000(a_target, a_predicted)], columns=['mean', 'lower', 'upper', 'risk'])\n",
    "B = pd.DataFrame([bootstrap_1000(b_target, b_predicted)], columns=['mean', 'lower', 'upper', 'risk'])\n",
    "C = pd.DataFrame([bootstrap_1000(c_target, c_predicted)], columns=['mean', 'lower', 'upper', 'risk'])\n"
   ]
  },
  {
   "cell_type": "code",
   "execution_count": 106,
   "metadata": {},
   "outputs": [],
   "source": [
    "def number(df):\n",
    "    df['mean']=df['mean']/1000\n",
    "    df['lower']=df['lower']/1000\n",
    "    df['upper']=df['upper']/1000\n",
    "    df['risk']=df['risk']\n",
    "    df.columns=['Cреднее значение прогнозируемой прибыли, тыс.руб.',\n",
    "                'Нижняя граница 95% доверительного интервала прогнозируемой прибыли, тыс.руб.',\n",
    "                'Верхняя граница 95% доверительного интервала прогнозируемой прибыли, тыс.руб.','Процент риска, %']\n",
    "    pd.set_option('max_rows', 5)\n",
    "    pd.set_option('display.max_colwidth', None)\n",
    "    pd.set_option('display.float_format', '{:.2f}'.format)\n",
    "    return display(df)"
   ]
  },
  {
   "cell_type": "code",
   "execution_count": 107,
   "metadata": {},
   "outputs": [
    {
     "name": "stdout",
     "output_type": "stream",
     "text": [
      "Регион А\n"
     ]
    },
    {
     "data": {
      "text/html": [
       "<div>\n",
       "<style scoped>\n",
       "    .dataframe tbody tr th:only-of-type {\n",
       "        vertical-align: middle;\n",
       "    }\n",
       "\n",
       "    .dataframe tbody tr th {\n",
       "        vertical-align: top;\n",
       "    }\n",
       "\n",
       "    .dataframe thead th {\n",
       "        text-align: right;\n",
       "    }\n",
       "</style>\n",
       "<table border=\"1\" class=\"dataframe\">\n",
       "  <thead>\n",
       "    <tr style=\"text-align: right;\">\n",
       "      <th></th>\n",
       "      <th>Cреднее значение прогнозируемой прибыли, тыс.руб.</th>\n",
       "      <th>Нижняя граница 95% доверительного интервала прогнозируемой прибыли, тыс.руб.</th>\n",
       "      <th>Верхняя граница 95% доверительного интервала прогнозируемой прибыли, тыс.руб.</th>\n",
       "      <th>Процент риска, %</th>\n",
       "    </tr>\n",
       "  </thead>\n",
       "  <tbody>\n",
       "    <tr>\n",
       "      <th>0</th>\n",
       "      <td>4606138658.19</td>\n",
       "      <td>4373511845.21</td>\n",
       "      <td>4828632827.20</td>\n",
       "      <td>0.00</td>\n",
       "    </tr>\n",
       "  </tbody>\n",
       "</table>\n",
       "</div>"
      ],
      "text/plain": [
       "   Cреднее значение прогнозируемой прибыли, тыс.руб.  \\\n",
       "0                                      4606138658.19   \n",
       "\n",
       "   Нижняя граница 95% доверительного интервала прогнозируемой прибыли, тыс.руб.  \\\n",
       "0                                                                 4373511845.21   \n",
       "\n",
       "   Верхняя граница 95% доверительного интервала прогнозируемой прибыли, тыс.руб.  \\\n",
       "0                                                                  4828632827.20   \n",
       "\n",
       "   Процент риска, %  \n",
       "0              0.00  "
      ]
     },
     "metadata": {},
     "output_type": "display_data"
    },
    {
     "name": "stdout",
     "output_type": "stream",
     "text": [
      "Регион B\n"
     ]
    },
    {
     "data": {
      "text/html": [
       "<div>\n",
       "<style scoped>\n",
       "    .dataframe tbody tr th:only-of-type {\n",
       "        vertical-align: middle;\n",
       "    }\n",
       "\n",
       "    .dataframe tbody tr th {\n",
       "        vertical-align: top;\n",
       "    }\n",
       "\n",
       "    .dataframe thead th {\n",
       "        text-align: right;\n",
       "    }\n",
       "</style>\n",
       "<table border=\"1\" class=\"dataframe\">\n",
       "  <thead>\n",
       "    <tr style=\"text-align: right;\">\n",
       "      <th></th>\n",
       "      <th>Cреднее значение прогнозируемой прибыли, тыс.руб.</th>\n",
       "      <th>Нижняя граница 95% доверительного интервала прогнозируемой прибыли, тыс.руб.</th>\n",
       "      <th>Верхняя граница 95% доверительного интервала прогнозируемой прибыли, тыс.руб.</th>\n",
       "      <th>Процент риска, %</th>\n",
       "    </tr>\n",
       "  </thead>\n",
       "  <tbody>\n",
       "    <tr>\n",
       "      <th>0</th>\n",
       "      <td>4691247239.72</td>\n",
       "      <td>4505163249.38</td>\n",
       "      <td>4878344521.33</td>\n",
       "      <td>0.00</td>\n",
       "    </tr>\n",
       "  </tbody>\n",
       "</table>\n",
       "</div>"
      ],
      "text/plain": [
       "   Cреднее значение прогнозируемой прибыли, тыс.руб.  \\\n",
       "0                                      4691247239.72   \n",
       "\n",
       "   Нижняя граница 95% доверительного интервала прогнозируемой прибыли, тыс.руб.  \\\n",
       "0                                                                 4505163249.38   \n",
       "\n",
       "   Верхняя граница 95% доверительного интервала прогнозируемой прибыли, тыс.руб.  \\\n",
       "0                                                                  4878344521.33   \n",
       "\n",
       "   Процент риска, %  \n",
       "0              0.00  "
      ]
     },
     "metadata": {},
     "output_type": "display_data"
    },
    {
     "name": "stdout",
     "output_type": "stream",
     "text": [
      "Регион C\n"
     ]
    },
    {
     "data": {
      "text/html": [
       "<div>\n",
       "<style scoped>\n",
       "    .dataframe tbody tr th:only-of-type {\n",
       "        vertical-align: middle;\n",
       "    }\n",
       "\n",
       "    .dataframe tbody tr th {\n",
       "        vertical-align: top;\n",
       "    }\n",
       "\n",
       "    .dataframe thead th {\n",
       "        text-align: right;\n",
       "    }\n",
       "</style>\n",
       "<table border=\"1\" class=\"dataframe\">\n",
       "  <thead>\n",
       "    <tr style=\"text-align: right;\">\n",
       "      <th></th>\n",
       "      <th>Cреднее значение прогнозируемой прибыли, тыс.руб.</th>\n",
       "      <th>Нижняя граница 95% доверительного интервала прогнозируемой прибыли, тыс.руб.</th>\n",
       "      <th>Верхняя граница 95% доверительного интервала прогнозируемой прибыли, тыс.руб.</th>\n",
       "      <th>Процент риска, %</th>\n",
       "    </tr>\n",
       "  </thead>\n",
       "  <tbody>\n",
       "    <tr>\n",
       "      <th>0</th>\n",
       "      <td>4640130315.00</td>\n",
       "      <td>4388747761.23</td>\n",
       "      <td>4857098339.66</td>\n",
       "      <td>0.00</td>\n",
       "    </tr>\n",
       "  </tbody>\n",
       "</table>\n",
       "</div>"
      ],
      "text/plain": [
       "   Cреднее значение прогнозируемой прибыли, тыс.руб.  \\\n",
       "0                                      4640130315.00   \n",
       "\n",
       "   Нижняя граница 95% доверительного интервала прогнозируемой прибыли, тыс.руб.  \\\n",
       "0                                                                 4388747761.23   \n",
       "\n",
       "   Верхняя граница 95% доверительного интервала прогнозируемой прибыли, тыс.руб.  \\\n",
       "0                                                                  4857098339.66   \n",
       "\n",
       "   Процент риска, %  \n",
       "0              0.00  "
      ]
     },
     "metadata": {},
     "output_type": "display_data"
    }
   ],
   "source": [
    "print('Регион А')\n",
    "number(A)\n",
    "print('Регион B')\n",
    "number(B)\n",
    "print('Регион C')\n",
    "number(C)\n"
   ]
  },
  {
   "cell_type": "markdown",
   "metadata": {},
   "source": [
    "Очевидно, что все регионы пригодны для разработки по среднему, так как оно лежит между min-max по условию безубыточности по объему скважины. \n",
    "Регион С имеет наибольшее значение предсказанного  среднего объема скважины.\n",
    "Разработку целесообразно вести во всех трех регионах"
   ]
  },
  {
   "cell_type": "markdown",
   "metadata": {},
   "source": [
    "## Итоговый вывод\n",
    "\n",
    "В ходе анализа данных и построения моделей для трех регионов (A, B и C) мы пришли к следующим выводам:\n",
    "\n",
    "1. **Подготовка данных:** Провели анализ данных и выявили различия между регионами в распределении признаков. Задачей было построение модели классификации для определения категорий скважин (A, B или C) в каждом регионе. Выбранные признаки для моделирования включают числовые (f0, f1, f2, product) и категориальный (category) признаки.\n",
    "\n",
    "2. **Корреляционный анализ:** Провели корреляционный анализ для каждого региона и выявили зависимости между признаками. Эти зависимости будут учтены при построении моделей.\n",
    "\n",
    "3. **Обучение модели:** Построили модель классификации для каждого региона, используя подготовленные данные. Для оценки качества модели мы использовали метрики MSE, RMSE, R-squared и MAE.\n",
    "\n",
    "4. **Сравнение с Dummy-моделью:** Cравнили качество нашей модели с Dummy-моделью и выявили, что наша модель показывает более точные и объяснимые предсказания.\n",
    "\n",
    "5. **Интерпретация метрик:** Метрики качества модели и Dummy-модели были проинтерпретированы. Наша модель позволяет более точно предсказывать категории скважин и имеет потенциал для принятия решений при разработке региона.\n",
    "\n",
    "6. **Итоговое решение:** Рекомендуем разработку нефтяных скважин во всех трех регионах (A, B и C), так как средний объем продукции позволяет окупить бюджет разработки, при условии, что стоимость барреля нефти составляет 450 рублей. Наша модель поможет определить наиболее перспективные скважины для разработки, что позволит максимизировать прибыль и снизить риски убытков.\n",
    "\n",
    "Итак, наше исследование предоставляет рекомендации по выбору регионов для добычи нефти и позволяет оптимизировать процесс разработки с учетом ограниченных бюджетных ресурсов и экономических факторов."
   ]
  }
 ],
 "metadata": {
  "ExecuteTimeLog": [
   {
    "duration": 29072,
    "start_time": "2023-07-28T10:00:38.466Z"
   },
   {
    "duration": 804,
    "start_time": "2023-07-28T10:01:07.540Z"
   },
   {
    "duration": 5,
    "start_time": "2023-07-28T10:01:08.346Z"
   },
   {
    "duration": 62,
    "start_time": "2023-07-28T10:01:08.353Z"
   },
   {
    "duration": 24,
    "start_time": "2023-07-28T10:01:08.418Z"
   },
   {
    "duration": 39,
    "start_time": "2023-07-28T10:01:08.444Z"
   },
   {
    "duration": 30,
    "start_time": "2023-07-28T10:01:08.485Z"
   },
   {
    "duration": 33,
    "start_time": "2023-07-28T10:01:08.517Z"
   },
   {
    "duration": 36,
    "start_time": "2023-07-28T10:01:08.551Z"
   },
   {
    "duration": 15,
    "start_time": "2023-07-28T10:01:08.589Z"
   },
   {
    "duration": 79,
    "start_time": "2023-07-28T10:01:08.606Z"
   },
   {
    "duration": 56,
    "start_time": "2023-07-28T10:01:08.687Z"
   },
   {
    "duration": 1207,
    "start_time": "2023-07-28T10:01:08.745Z"
   },
   {
    "duration": 1182,
    "start_time": "2023-07-28T10:01:09.955Z"
   },
   {
    "duration": 1052,
    "start_time": "2023-07-28T10:01:11.139Z"
   },
   {
    "duration": 5,
    "start_time": "2023-07-28T10:01:12.193Z"
   },
   {
    "duration": 157,
    "start_time": "2023-07-28T10:01:12.200Z"
   },
   {
    "duration": 8,
    "start_time": "2023-07-28T10:01:12.359Z"
   },
   {
    "duration": 40,
    "start_time": "2023-07-28T10:01:12.369Z"
   },
   {
    "duration": 48,
    "start_time": "2023-07-28T10:01:12.411Z"
   },
   {
    "duration": 30,
    "start_time": "2023-07-28T10:01:12.461Z"
   },
   {
    "duration": 19,
    "start_time": "2023-07-28T10:01:12.492Z"
   },
   {
    "duration": 82,
    "start_time": "2023-07-28T10:01:12.512Z"
   },
   {
    "duration": 31,
    "start_time": "2023-07-28T10:01:12.596Z"
   },
   {
    "duration": 23,
    "start_time": "2023-07-28T10:01:12.629Z"
   },
   {
    "duration": 26,
    "start_time": "2023-07-28T10:01:12.654Z"
   },
   {
    "duration": 4,
    "start_time": "2023-07-28T10:01:12.681Z"
   },
   {
    "duration": 85,
    "start_time": "2023-07-28T10:01:12.686Z"
   },
   {
    "duration": 33,
    "start_time": "2023-07-28T10:01:12.773Z"
   },
   {
    "duration": 925,
    "start_time": "2023-07-28T10:01:12.808Z"
   },
   {
    "duration": 74,
    "start_time": "2023-07-28T10:01:13.735Z"
   },
   {
    "duration": 7,
    "start_time": "2023-07-28T10:01:13.811Z"
   },
   {
    "duration": 33,
    "start_time": "2023-07-28T10:01:13.820Z"
   },
   {
    "duration": 5,
    "start_time": "2023-07-28T10:01:13.854Z"
   },
   {
    "duration": 18,
    "start_time": "2023-07-28T10:01:13.860Z"
   },
   {
    "duration": 23,
    "start_time": "2023-07-28T10:01:13.880Z"
   },
   {
    "duration": 11,
    "start_time": "2023-07-28T10:01:13.905Z"
   },
   {
    "duration": 793,
    "start_time": "2023-07-28T10:01:13.918Z"
   },
   {
    "duration": 78,
    "start_time": "2023-07-28T10:01:14.713Z"
   },
   {
    "duration": 804,
    "start_time": "2023-07-28T10:01:14.793Z"
   },
   {
    "duration": 4,
    "start_time": "2023-07-28T10:01:15.600Z"
   },
   {
    "duration": 65,
    "start_time": "2023-07-28T10:01:15.606Z"
   },
   {
    "duration": 25,
    "start_time": "2023-07-28T10:01:15.672Z"
   },
   {
    "duration": 6,
    "start_time": "2023-07-28T10:01:15.699Z"
   },
   {
    "duration": 20,
    "start_time": "2023-07-28T10:01:15.707Z"
   },
   {
    "duration": 54,
    "start_time": "2023-07-28T10:01:15.728Z"
   },
   {
    "duration": 12,
    "start_time": "2023-07-28T10:01:15.784Z"
   },
   {
    "duration": 130,
    "start_time": "2023-07-28T10:30:15.334Z"
   },
   {
    "duration": 6,
    "start_time": "2023-07-28T10:30:19.466Z"
   },
   {
    "duration": 414,
    "start_time": "2023-07-28T10:30:19.474Z"
   },
   {
    "duration": 3,
    "start_time": "2023-07-28T10:30:19.890Z"
   },
   {
    "duration": 28,
    "start_time": "2023-07-28T10:30:19.895Z"
   },
   {
    "duration": 28,
    "start_time": "2023-07-28T10:30:19.925Z"
   },
   {
    "duration": 156,
    "start_time": "2023-07-28T10:30:19.955Z"
   },
   {
    "duration": 14,
    "start_time": "2023-07-28T10:30:20.113Z"
   },
   {
    "duration": 31,
    "start_time": "2023-07-28T10:30:20.129Z"
   },
   {
    "duration": 14,
    "start_time": "2023-07-28T10:30:20.162Z"
   },
   {
    "duration": 7,
    "start_time": "2023-07-28T10:30:20.179Z"
   },
   {
    "duration": 31,
    "start_time": "2023-07-28T10:30:20.188Z"
   },
   {
    "duration": 8,
    "start_time": "2023-07-28T10:30:20.220Z"
   },
   {
    "duration": 1031,
    "start_time": "2023-07-28T10:30:20.230Z"
   },
   {
    "duration": 1130,
    "start_time": "2023-07-28T10:30:21.262Z"
   },
   {
    "duration": 1158,
    "start_time": "2023-07-28T10:30:22.394Z"
   },
   {
    "duration": 5,
    "start_time": "2023-07-28T10:30:23.553Z"
   },
   {
    "duration": 120,
    "start_time": "2023-07-28T10:30:23.560Z"
   },
   {
    "duration": 8,
    "start_time": "2023-07-28T10:30:23.681Z"
   },
   {
    "duration": 9,
    "start_time": "2023-07-28T10:30:23.691Z"
   },
   {
    "duration": 43,
    "start_time": "2023-07-28T10:30:23.702Z"
   },
   {
    "duration": 18,
    "start_time": "2023-07-28T10:30:23.747Z"
   },
   {
    "duration": 3,
    "start_time": "2023-07-28T10:30:23.767Z"
   },
   {
    "duration": 31,
    "start_time": "2023-07-28T10:30:23.772Z"
   },
   {
    "duration": 16,
    "start_time": "2023-07-28T10:30:23.805Z"
   },
   {
    "duration": 30,
    "start_time": "2023-07-28T10:30:23.822Z"
   },
   {
    "duration": 31,
    "start_time": "2023-07-28T10:30:23.854Z"
   },
   {
    "duration": 3,
    "start_time": "2023-07-28T10:30:23.887Z"
   },
   {
    "duration": 78,
    "start_time": "2023-07-28T10:30:23.895Z"
   },
   {
    "duration": 7,
    "start_time": "2023-07-28T10:30:23.975Z"
   },
   {
    "duration": 785,
    "start_time": "2023-07-28T10:30:23.983Z"
   },
   {
    "duration": 68,
    "start_time": "2023-07-28T10:30:24.770Z"
   },
   {
    "duration": 9,
    "start_time": "2023-07-28T10:30:24.851Z"
   },
   {
    "duration": 32,
    "start_time": "2023-07-28T10:30:24.862Z"
   },
   {
    "duration": 5,
    "start_time": "2023-07-28T10:30:24.896Z"
   },
   {
    "duration": 13,
    "start_time": "2023-07-28T10:30:24.902Z"
   },
   {
    "duration": 25,
    "start_time": "2023-07-28T10:30:24.917Z"
   },
   {
    "duration": 18,
    "start_time": "2023-07-28T10:30:24.944Z"
   },
   {
    "duration": 812,
    "start_time": "2023-07-28T10:30:24.964Z"
   },
   {
    "duration": 77,
    "start_time": "2023-07-28T10:30:25.778Z"
   },
   {
    "duration": 917,
    "start_time": "2023-07-28T10:30:25.856Z"
   },
   {
    "duration": 3,
    "start_time": "2023-07-28T10:30:26.775Z"
   },
   {
    "duration": 35,
    "start_time": "2023-07-28T10:30:26.780Z"
   },
   {
    "duration": 39,
    "start_time": "2023-07-28T10:30:26.817Z"
   },
   {
    "duration": 5,
    "start_time": "2023-07-28T10:30:26.858Z"
   },
   {
    "duration": 13,
    "start_time": "2023-07-28T10:30:26.865Z"
   },
   {
    "duration": 49,
    "start_time": "2023-07-28T10:30:26.879Z"
   },
   {
    "duration": 4,
    "start_time": "2023-07-28T10:30:26.930Z"
   },
   {
    "duration": 16,
    "start_time": "2023-07-28T10:30:26.936Z"
   },
   {
    "duration": 9,
    "start_time": "2023-07-28T10:30:26.953Z"
   },
   {
    "duration": 190,
    "start_time": "2023-07-28T10:30:26.963Z"
   },
   {
    "duration": 210,
    "start_time": "2023-07-28T10:30:27.155Z"
   },
   {
    "duration": 191,
    "start_time": "2023-07-28T10:30:27.367Z"
   },
   {
    "duration": 5,
    "start_time": "2023-07-28T10:30:27.560Z"
   },
   {
    "duration": 191,
    "start_time": "2023-07-28T10:30:27.566Z"
   },
   {
    "duration": 62,
    "start_time": "2023-07-28T10:30:27.759Z"
   },
   {
    "duration": 201,
    "start_time": "2023-07-28T10:30:27.823Z"
   },
   {
    "duration": 133,
    "start_time": "2023-07-28T10:30:28.025Z"
   },
   {
    "duration": 4,
    "start_time": "2023-07-28T10:30:28.160Z"
   },
   {
    "duration": 20,
    "start_time": "2023-07-28T10:30:28.165Z"
   },
   {
    "duration": 85,
    "start_time": "2023-07-28T10:30:28.186Z"
   },
   {
    "duration": 111,
    "start_time": "2023-07-28T10:30:28.273Z"
   },
   {
    "duration": 102,
    "start_time": "2023-07-28T10:30:28.387Z"
   },
   {
    "duration": 176,
    "start_time": "2023-07-28T10:30:28.491Z"
   },
   {
    "duration": 4,
    "start_time": "2023-07-28T10:30:28.669Z"
   },
   {
    "duration": 224,
    "start_time": "2023-07-28T10:30:28.674Z"
   },
   {
    "duration": 75,
    "start_time": "2023-07-28T10:30:28.900Z"
   },
   {
    "duration": 94,
    "start_time": "2023-07-28T10:30:28.977Z"
   },
   {
    "duration": 39,
    "start_time": "2023-07-28T10:30:29.073Z"
   },
   {
    "duration": 94,
    "start_time": "2023-07-28T10:30:29.114Z"
   },
   {
    "duration": 47,
    "start_time": "2023-07-28T10:30:29.210Z"
   },
   {
    "duration": 4,
    "start_time": "2023-07-28T10:30:29.259Z"
   },
   {
    "duration": 132,
    "start_time": "2023-07-28T10:30:29.264Z"
   },
   {
    "duration": 5,
    "start_time": "2023-07-28T10:30:29.399Z"
   },
   {
    "duration": 19,
    "start_time": "2023-07-28T10:30:29.406Z"
   },
   {
    "duration": 550,
    "start_time": "2023-07-28T10:30:29.427Z"
   },
   {
    "duration": 7,
    "start_time": "2023-07-28T10:30:30.053Z"
   },
   {
    "duration": 138,
    "start_time": "2023-07-28T10:30:30.062Z"
   },
   {
    "duration": 43,
    "start_time": "2023-07-28T10:30:30.202Z"
   },
   {
    "duration": 51,
    "start_time": "2023-07-28T10:30:30.247Z"
   },
   {
    "duration": 57,
    "start_time": "2023-07-28T10:30:30.300Z"
   },
   {
    "duration": 48,
    "start_time": "2023-07-28T10:30:30.359Z"
   },
   {
    "duration": 295,
    "start_time": "2023-07-28T10:30:30.415Z"
   },
   {
    "duration": 285,
    "start_time": "2023-07-28T10:30:30.711Z"
   },
   {
    "duration": 424,
    "start_time": "2023-07-28T10:30:30.999Z"
   },
   {
    "duration": 7,
    "start_time": "2023-07-28T10:30:31.425Z"
   },
   {
    "duration": 51,
    "start_time": "2023-07-28T10:30:31.434Z"
   },
   {
    "duration": 44,
    "start_time": "2023-07-28T10:30:31.487Z"
   },
   {
    "duration": 43,
    "start_time": "2023-07-28T10:30:31.532Z"
   },
   {
    "duration": 97,
    "start_time": "2023-07-28T10:30:31.577Z"
   },
   {
    "duration": 3,
    "start_time": "2023-07-28T10:30:31.675Z"
   },
   {
    "duration": 40,
    "start_time": "2023-07-28T10:30:31.679Z"
   },
   {
    "duration": 32,
    "start_time": "2023-07-28T10:30:31.720Z"
   },
   {
    "duration": 31,
    "start_time": "2023-07-28T10:30:31.754Z"
   },
   {
    "duration": 32,
    "start_time": "2023-07-28T10:30:31.787Z"
   },
   {
    "duration": 75,
    "start_time": "2023-07-28T10:30:31.821Z"
   },
   {
    "duration": 82,
    "start_time": "2023-07-28T10:30:31.898Z"
   },
   {
    "duration": 12,
    "start_time": "2023-07-28T10:49:46.454Z"
   },
   {
    "duration": 9,
    "start_time": "2023-07-28T10:50:35.898Z"
   },
   {
    "duration": 11,
    "start_time": "2023-07-28T10:51:12.689Z"
   },
   {
    "duration": 12,
    "start_time": "2023-07-28T10:51:17.540Z"
   },
   {
    "duration": 15,
    "start_time": "2023-07-28T10:51:25.065Z"
   },
   {
    "duration": 6,
    "start_time": "2023-07-28T10:51:28.960Z"
   },
   {
    "duration": 545,
    "start_time": "2023-07-28T10:51:29.308Z"
   },
   {
    "duration": 10,
    "start_time": "2023-07-28T10:51:32.993Z"
   },
   {
    "duration": 5,
    "start_time": "2023-07-28T10:51:38.466Z"
   },
   {
    "duration": 16,
    "start_time": "2023-07-28T10:51:38.648Z"
   },
   {
    "duration": 10,
    "start_time": "2023-07-28T10:51:41.375Z"
   },
   {
    "duration": 10,
    "start_time": "2023-07-28T10:51:43.295Z"
   },
   {
    "duration": 9,
    "start_time": "2023-07-28T10:51:44.207Z"
   },
   {
    "duration": 5,
    "start_time": "2023-07-28T10:54:38.302Z"
   },
   {
    "duration": 4490,
    "start_time": "2023-07-28T10:55:21.644Z"
   },
   {
    "duration": 3,
    "start_time": "2023-07-28T10:55:29.345Z"
   },
   {
    "duration": 2,
    "start_time": "2023-07-28T10:55:29.546Z"
   },
   {
    "duration": 5,
    "start_time": "2023-07-28T10:55:29.841Z"
   },
   {
    "duration": 3,
    "start_time": "2023-07-28T10:55:29.967Z"
   },
   {
    "duration": 6796,
    "start_time": "2023-07-28T10:55:30.314Z"
   },
   {
    "duration": 10,
    "start_time": "2023-07-28T10:55:44.008Z"
   },
   {
    "duration": 3,
    "start_time": "2023-07-28T10:55:48.949Z"
   },
   {
    "duration": 8,
    "start_time": "2023-07-28T10:55:49.145Z"
   },
   {
    "duration": 70,
    "start_time": "2023-07-28T10:55:49.361Z"
   },
   {
    "duration": 3,
    "start_time": "2023-07-28T10:55:56.214Z"
   },
   {
    "duration": 13,
    "start_time": "2023-07-28T10:55:56.556Z"
   },
   {
    "duration": 12,
    "start_time": "2023-07-28T10:56:02.800Z"
   },
   {
    "duration": 4345,
    "start_time": "2023-07-30T08:57:36.152Z"
   },
   {
    "duration": 813,
    "start_time": "2023-07-30T08:57:40.499Z"
   },
   {
    "duration": 3,
    "start_time": "2023-07-30T08:57:41.314Z"
   },
   {
    "duration": 64,
    "start_time": "2023-07-30T08:57:41.319Z"
   },
   {
    "duration": 17,
    "start_time": "2023-07-30T08:57:41.385Z"
   },
   {
    "duration": 17,
    "start_time": "2023-07-30T08:57:41.404Z"
   },
   {
    "duration": 17,
    "start_time": "2023-07-30T08:57:41.453Z"
   },
   {
    "duration": 16,
    "start_time": "2023-07-30T08:57:41.471Z"
   },
   {
    "duration": 15,
    "start_time": "2023-07-30T08:57:41.488Z"
   },
   {
    "duration": 3,
    "start_time": "2023-07-30T08:57:41.505Z"
   },
   {
    "duration": 49,
    "start_time": "2023-07-30T08:57:41.509Z"
   },
   {
    "duration": 10,
    "start_time": "2023-07-30T08:57:41.559Z"
   },
   {
    "duration": 1254,
    "start_time": "2023-07-30T08:57:41.571Z"
   },
   {
    "duration": 1419,
    "start_time": "2023-07-30T08:57:42.828Z"
   },
   {
    "duration": 1107,
    "start_time": "2023-07-30T08:57:44.252Z"
   },
   {
    "duration": 12,
    "start_time": "2023-07-30T08:57:45.361Z"
   },
   {
    "duration": 131,
    "start_time": "2023-07-30T08:57:45.375Z"
   },
   {
    "duration": 8,
    "start_time": "2023-07-30T08:57:45.508Z"
   },
   {
    "duration": 10,
    "start_time": "2023-07-30T08:57:45.518Z"
   },
   {
    "duration": 52,
    "start_time": "2023-07-30T08:57:45.529Z"
   },
   {
    "duration": 19,
    "start_time": "2023-07-30T08:57:45.583Z"
   },
   {
    "duration": 11,
    "start_time": "2023-07-30T08:57:45.604Z"
   },
   {
    "duration": 40,
    "start_time": "2023-07-30T08:57:45.616Z"
   },
   {
    "duration": 26,
    "start_time": "2023-07-30T08:57:45.658Z"
   },
   {
    "duration": 26,
    "start_time": "2023-07-30T08:57:45.686Z"
   },
   {
    "duration": 49,
    "start_time": "2023-07-30T08:57:45.714Z"
   },
   {
    "duration": 8,
    "start_time": "2023-07-30T08:57:45.765Z"
   },
   {
    "duration": 82,
    "start_time": "2023-07-30T08:57:45.775Z"
   },
   {
    "duration": 12,
    "start_time": "2023-07-30T08:57:45.859Z"
   },
   {
    "duration": 945,
    "start_time": "2023-07-30T08:57:45.873Z"
   },
   {
    "duration": 82,
    "start_time": "2023-07-30T08:57:46.820Z"
   },
   {
    "duration": 8,
    "start_time": "2023-07-30T08:57:46.903Z"
   },
   {
    "duration": 38,
    "start_time": "2023-07-30T08:57:46.914Z"
   },
   {
    "duration": 110,
    "start_time": "2023-07-30T08:57:46.954Z"
   },
   {
    "duration": 53,
    "start_time": "2023-07-30T08:57:47.069Z"
   },
   {
    "duration": 23,
    "start_time": "2023-07-30T08:57:47.124Z"
   },
   {
    "duration": 13,
    "start_time": "2023-07-30T08:57:47.149Z"
   },
   {
    "duration": 821,
    "start_time": "2023-07-30T08:57:47.165Z"
   },
   {
    "duration": 84,
    "start_time": "2023-07-30T08:57:47.988Z"
   },
   {
    "duration": 926,
    "start_time": "2023-07-30T08:57:48.074Z"
   },
   {
    "duration": 3,
    "start_time": "2023-07-30T08:57:49.006Z"
   },
   {
    "duration": 189,
    "start_time": "2023-07-30T08:57:49.010Z"
   },
   {
    "duration": 23,
    "start_time": "2023-07-30T08:57:49.201Z"
   },
   {
    "duration": 3,
    "start_time": "2023-07-30T08:57:49.225Z"
   },
   {
    "duration": 24,
    "start_time": "2023-07-30T08:57:49.229Z"
   },
   {
    "duration": 41,
    "start_time": "2023-07-30T08:57:49.255Z"
   },
   {
    "duration": 4,
    "start_time": "2023-07-30T08:57:49.297Z"
   },
   {
    "duration": 9,
    "start_time": "2023-07-30T08:57:49.303Z"
   },
   {
    "duration": 3,
    "start_time": "2023-07-30T08:57:49.314Z"
   },
   {
    "duration": 246,
    "start_time": "2023-07-30T08:57:49.319Z"
   },
   {
    "duration": 233,
    "start_time": "2023-07-30T08:57:49.567Z"
   },
   {
    "duration": 188,
    "start_time": "2023-07-30T08:57:49.801Z"
   },
   {
    "duration": 5,
    "start_time": "2023-07-30T08:57:49.991Z"
   },
   {
    "duration": 224,
    "start_time": "2023-07-30T08:57:49.998Z"
   },
   {
    "duration": 90,
    "start_time": "2023-07-30T08:57:50.224Z"
   },
   {
    "duration": 217,
    "start_time": "2023-07-30T08:57:50.316Z"
   },
   {
    "duration": 161,
    "start_time": "2023-07-30T08:57:50.534Z"
   },
   {
    "duration": 3,
    "start_time": "2023-07-30T08:57:50.697Z"
   },
   {
    "duration": 10,
    "start_time": "2023-07-30T08:57:50.702Z"
   },
   {
    "duration": 80,
    "start_time": "2023-07-30T08:57:50.714Z"
   },
   {
    "duration": 85,
    "start_time": "2023-07-30T08:57:50.796Z"
   },
   {
    "duration": 83,
    "start_time": "2023-07-30T08:57:50.882Z"
   },
   {
    "duration": 216,
    "start_time": "2023-07-30T08:57:50.967Z"
   },
   {
    "duration": 3,
    "start_time": "2023-07-30T08:57:51.185Z"
   },
   {
    "duration": 231,
    "start_time": "2023-07-30T08:57:51.190Z"
   },
   {
    "duration": 88,
    "start_time": "2023-07-30T08:57:51.422Z"
   },
   {
    "duration": 90,
    "start_time": "2023-07-30T08:57:51.512Z"
   },
   {
    "duration": 50,
    "start_time": "2023-07-30T08:57:51.604Z"
   },
   {
    "duration": 100,
    "start_time": "2023-07-30T08:57:51.656Z"
   },
   {
    "duration": 28,
    "start_time": "2023-07-30T08:57:51.758Z"
   },
   {
    "duration": 57,
    "start_time": "2023-07-30T08:57:51.788Z"
   },
   {
    "duration": 124,
    "start_time": "2023-07-30T08:57:51.847Z"
   },
   {
    "duration": 5,
    "start_time": "2023-07-30T08:57:51.973Z"
   },
   {
    "duration": 6,
    "start_time": "2023-07-30T08:57:51.981Z"
   },
   {
    "duration": 595,
    "start_time": "2023-07-30T08:57:51.989Z"
   },
   {
    "duration": 12,
    "start_time": "2023-07-30T08:57:52.657Z"
   },
   {
    "duration": 7,
    "start_time": "2023-07-30T08:57:52.752Z"
   },
   {
    "duration": 11,
    "start_time": "2023-07-30T08:57:52.761Z"
   },
   {
    "duration": 297,
    "start_time": "2023-07-30T08:57:52.775Z"
   },
   {
    "duration": 319,
    "start_time": "2023-07-30T08:57:53.074Z"
   },
   {
    "duration": 332,
    "start_time": "2023-07-30T08:57:53.395Z"
   },
   {
    "duration": 4,
    "start_time": "2023-07-30T08:57:53.729Z"
   },
   {
    "duration": 7,
    "start_time": "2023-07-30T08:57:53.757Z"
   },
   {
    "duration": 8,
    "start_time": "2023-07-30T08:57:53.766Z"
   },
   {
    "duration": 10,
    "start_time": "2023-07-30T08:57:53.775Z"
   },
   {
    "duration": 9,
    "start_time": "2023-07-30T08:57:53.787Z"
   },
   {
    "duration": 4,
    "start_time": "2023-07-30T08:57:53.797Z"
   },
   {
    "duration": 220,
    "start_time": "2023-07-30T08:57:53.803Z"
   },
   {
    "duration": 321,
    "start_time": "2023-07-30T08:57:54.025Z"
   },
   {
    "duration": 223,
    "start_time": "2023-07-30T08:57:54.352Z"
   },
   {
    "duration": 77,
    "start_time": "2023-07-30T08:57:54.577Z"
   },
   {
    "duration": 6,
    "start_time": "2023-07-30T08:57:54.657Z"
   },
   {
    "duration": 23,
    "start_time": "2023-07-30T08:57:54.665Z"
   },
   {
    "duration": 9,
    "start_time": "2023-07-30T08:57:54.691Z"
   },
   {
    "duration": 15,
    "start_time": "2023-07-30T08:57:54.702Z"
   },
   {
    "duration": 10,
    "start_time": "2023-07-30T08:57:54.719Z"
   },
   {
    "duration": 22,
    "start_time": "2023-07-30T08:57:54.731Z"
   },
   {
    "duration": 4348,
    "start_time": "2023-07-30T08:57:54.756Z"
   },
   {
    "duration": 4,
    "start_time": "2023-07-30T08:57:59.106Z"
   },
   {
    "duration": 42,
    "start_time": "2023-07-30T08:57:59.112Z"
   },
   {
    "duration": 4,
    "start_time": "2023-07-30T08:58:27.709Z"
   },
   {
    "duration": 5,
    "start_time": "2023-07-30T08:58:31.067Z"
   },
   {
    "duration": 4,
    "start_time": "2023-07-30T08:58:38.287Z"
   },
   {
    "duration": 5,
    "start_time": "2023-07-30T08:59:51.960Z"
   },
   {
    "duration": 6,
    "start_time": "2023-07-30T08:59:55.756Z"
   },
   {
    "duration": 9,
    "start_time": "2023-07-30T09:06:07.070Z"
   },
   {
    "duration": 127,
    "start_time": "2023-07-30T09:06:25.913Z"
   },
   {
    "duration": 13,
    "start_time": "2023-07-30T09:06:32.256Z"
   },
   {
    "duration": 7,
    "start_time": "2023-07-30T09:06:33.551Z"
   },
   {
    "duration": 5,
    "start_time": "2023-07-30T09:06:36.444Z"
   },
   {
    "duration": 5,
    "start_time": "2023-07-30T09:06:40.872Z"
   },
   {
    "duration": 7,
    "start_time": "2023-07-30T09:09:39.569Z"
   },
   {
    "duration": 5,
    "start_time": "2023-07-30T09:10:17.048Z"
   },
   {
    "duration": 4933,
    "start_time": "2023-07-30T09:10:17.670Z"
   },
   {
    "duration": 4,
    "start_time": "2023-07-30T09:10:22.605Z"
   },
   {
    "duration": 48,
    "start_time": "2023-07-30T09:10:22.611Z"
   },
   {
    "duration": 6,
    "start_time": "2023-07-30T09:11:44.097Z"
   },
   {
    "duration": 4332,
    "start_time": "2023-07-30T09:11:44.775Z"
   },
   {
    "duration": 4,
    "start_time": "2023-07-30T09:11:49.109Z"
   },
   {
    "duration": 38,
    "start_time": "2023-07-30T09:11:49.115Z"
   },
   {
    "duration": 1758,
    "start_time": "2023-07-31T08:32:49.061Z"
   },
   {
    "duration": 846,
    "start_time": "2023-07-31T08:32:50.822Z"
   },
   {
    "duration": 4,
    "start_time": "2023-07-31T08:32:51.670Z"
   },
   {
    "duration": 41,
    "start_time": "2023-07-31T08:32:51.677Z"
   },
   {
    "duration": 2837,
    "start_time": "2023-08-24T20:48:54.709Z"
   },
   {
    "duration": 1104,
    "start_time": "2023-08-24T20:48:57.548Z"
   },
   {
    "duration": 3,
    "start_time": "2023-08-24T20:48:58.654Z"
   },
   {
    "duration": 29,
    "start_time": "2023-08-24T20:48:58.711Z"
   },
   {
    "duration": 79,
    "start_time": "2023-08-24T20:48:58.742Z"
   },
   {
    "duration": 24,
    "start_time": "2023-08-24T20:48:58.823Z"
   },
   {
    "duration": 17,
    "start_time": "2023-08-24T20:48:58.910Z"
   },
   {
    "duration": 16,
    "start_time": "2023-08-24T20:48:58.929Z"
   },
   {
    "duration": 75,
    "start_time": "2023-08-24T20:48:58.947Z"
   },
   {
    "duration": 5,
    "start_time": "2023-08-24T20:48:59.025Z"
   },
   {
    "duration": 17,
    "start_time": "2023-08-24T20:48:59.032Z"
   },
   {
    "duration": 63,
    "start_time": "2023-08-24T20:48:59.051Z"
   },
   {
    "duration": 2132,
    "start_time": "2023-08-24T20:48:59.115Z"
   },
   {
    "duration": 2302,
    "start_time": "2023-08-24T20:49:01.249Z"
   },
   {
    "duration": 2196,
    "start_time": "2023-08-24T20:49:03.552Z"
   },
   {
    "duration": 60,
    "start_time": "2023-08-24T20:49:05.750Z"
   },
   {
    "duration": 233,
    "start_time": "2023-08-24T20:49:05.812Z"
   },
   {
    "duration": 7,
    "start_time": "2023-08-24T20:49:06.047Z"
   },
   {
    "duration": 5,
    "start_time": "2023-08-24T20:49:06.110Z"
   },
   {
    "duration": 33,
    "start_time": "2023-08-24T20:49:06.117Z"
   },
   {
    "duration": 18,
    "start_time": "2023-08-24T20:49:06.209Z"
   },
   {
    "duration": 3,
    "start_time": "2023-08-24T20:49:06.229Z"
   },
   {
    "duration": 80,
    "start_time": "2023-08-24T20:49:06.233Z"
   },
   {
    "duration": 18,
    "start_time": "2023-08-24T20:49:06.315Z"
   },
   {
    "duration": 83,
    "start_time": "2023-08-24T20:49:06.334Z"
   },
   {
    "duration": 28,
    "start_time": "2023-08-24T20:49:06.419Z"
   },
   {
    "duration": 61,
    "start_time": "2023-08-24T20:49:06.450Z"
   },
   {
    "duration": 112,
    "start_time": "2023-08-24T20:49:06.518Z"
   },
   {
    "duration": 6,
    "start_time": "2023-08-24T20:49:06.632Z"
   },
   {
    "duration": 1579,
    "start_time": "2023-08-24T20:49:06.639Z"
   },
   {
    "duration": 117,
    "start_time": "2023-08-24T20:49:08.220Z"
   },
   {
    "duration": 8,
    "start_time": "2023-08-24T20:49:08.339Z"
   },
   {
    "duration": 74,
    "start_time": "2023-08-24T20:49:08.349Z"
   },
   {
    "duration": 5,
    "start_time": "2023-08-24T20:49:08.424Z"
   },
   {
    "duration": 4,
    "start_time": "2023-08-24T20:49:08.431Z"
   },
   {
    "duration": 74,
    "start_time": "2023-08-24T20:49:08.436Z"
   },
   {
    "duration": 5,
    "start_time": "2023-08-24T20:49:08.512Z"
   },
   {
    "duration": 1402,
    "start_time": "2023-08-24T20:49:08.518Z"
   },
   {
    "duration": 116,
    "start_time": "2023-08-24T20:49:09.921Z"
   },
   {
    "duration": 1389,
    "start_time": "2023-08-24T20:49:10.039Z"
   },
   {
    "duration": 4,
    "start_time": "2023-08-24T20:49:11.430Z"
   },
   {
    "duration": 91,
    "start_time": "2023-08-24T20:49:11.435Z"
   },
   {
    "duration": 21,
    "start_time": "2023-08-24T20:49:11.527Z"
   },
   {
    "duration": 2,
    "start_time": "2023-08-24T20:49:11.550Z"
   },
   {
    "duration": 59,
    "start_time": "2023-08-24T20:49:11.553Z"
   },
   {
    "duration": 101,
    "start_time": "2023-08-24T20:49:11.613Z"
   },
   {
    "duration": 4,
    "start_time": "2023-08-24T20:49:11.716Z"
   },
   {
    "duration": 7,
    "start_time": "2023-08-24T20:49:11.722Z"
   },
   {
    "duration": 5,
    "start_time": "2023-08-24T20:49:11.730Z"
   },
   {
    "duration": 577,
    "start_time": "2023-08-24T20:49:11.736Z"
   },
   {
    "duration": 418,
    "start_time": "2023-08-24T20:49:12.315Z"
   },
   {
    "duration": 377,
    "start_time": "2023-08-24T20:49:12.735Z"
   },
   {
    "duration": 4,
    "start_time": "2023-08-24T20:49:13.113Z"
   },
   {
    "duration": 331,
    "start_time": "2023-08-24T20:49:13.119Z"
   },
   {
    "duration": 171,
    "start_time": "2023-08-24T20:49:13.452Z"
   },
   {
    "duration": 317,
    "start_time": "2023-08-24T20:49:13.624Z"
   },
   {
    "duration": 279,
    "start_time": "2023-08-24T20:49:13.943Z"
   },
   {
    "duration": 5,
    "start_time": "2023-08-24T20:49:14.224Z"
   },
   {
    "duration": 4,
    "start_time": "2023-08-24T20:49:14.230Z"
   },
   {
    "duration": 175,
    "start_time": "2023-08-24T20:49:14.236Z"
   },
   {
    "duration": 112,
    "start_time": "2023-08-24T20:49:14.412Z"
   },
   {
    "duration": 121,
    "start_time": "2023-08-24T20:49:14.526Z"
   },
   {
    "duration": 373,
    "start_time": "2023-08-24T20:49:14.649Z"
   },
   {
    "duration": 4,
    "start_time": "2023-08-24T20:49:15.024Z"
   },
   {
    "duration": 521,
    "start_time": "2023-08-24T20:49:15.029Z"
   },
   {
    "duration": 169,
    "start_time": "2023-08-24T20:49:15.552Z"
   },
   {
    "duration": 130,
    "start_time": "2023-08-24T20:49:15.722Z"
   },
   {
    "duration": 82,
    "start_time": "2023-08-24T20:49:15.853Z"
   },
   {
    "duration": 181,
    "start_time": "2023-08-24T20:49:15.936Z"
   },
   {
    "duration": 28,
    "start_time": "2023-08-24T20:49:16.119Z"
   },
   {
    "duration": 63,
    "start_time": "2023-08-24T20:49:16.149Z"
   },
   {
    "duration": 211,
    "start_time": "2023-08-24T20:49:16.214Z"
   },
   {
    "duration": 5,
    "start_time": "2023-08-24T20:49:16.427Z"
   },
   {
    "duration": 9,
    "start_time": "2023-08-24T20:49:16.434Z"
   },
   {
    "duration": 664,
    "start_time": "2023-08-24T20:49:16.445Z"
   },
   {
    "duration": 5,
    "start_time": "2023-08-24T20:49:17.111Z"
   },
   {
    "duration": 7,
    "start_time": "2023-08-24T20:49:17.117Z"
   },
   {
    "duration": 11,
    "start_time": "2023-08-24T20:49:17.125Z"
   },
   {
    "duration": 500,
    "start_time": "2023-08-24T20:49:17.138Z"
   },
   {
    "duration": 593,
    "start_time": "2023-08-24T20:49:17.640Z"
   },
   {
    "duration": 576,
    "start_time": "2023-08-24T20:49:18.235Z"
   },
   {
    "duration": 5,
    "start_time": "2023-08-24T20:49:18.818Z"
   },
   {
    "duration": 15,
    "start_time": "2023-08-24T20:49:18.824Z"
   },
   {
    "duration": 9,
    "start_time": "2023-08-24T20:49:18.841Z"
   },
   {
    "duration": 61,
    "start_time": "2023-08-24T20:49:18.852Z"
   },
   {
    "duration": 5,
    "start_time": "2023-08-24T20:49:18.916Z"
   },
   {
    "duration": 4,
    "start_time": "2023-08-24T20:49:18.922Z"
   },
   {
    "duration": 413,
    "start_time": "2023-08-24T20:49:18.928Z"
   },
   {
    "duration": 576,
    "start_time": "2023-08-24T20:49:19.343Z"
   },
   {
    "duration": 407,
    "start_time": "2023-08-24T20:49:19.921Z"
   },
   {
    "duration": 104,
    "start_time": "2023-08-24T20:49:20.330Z"
   },
   {
    "duration": 3,
    "start_time": "2023-08-24T20:49:20.436Z"
   },
   {
    "duration": 69,
    "start_time": "2023-08-24T20:49:20.440Z"
   },
   {
    "duration": 8,
    "start_time": "2023-08-24T20:49:20.511Z"
   },
   {
    "duration": 18,
    "start_time": "2023-08-24T20:49:20.521Z"
   },
   {
    "duration": 8,
    "start_time": "2023-08-24T20:49:20.540Z"
   },
   {
    "duration": 59,
    "start_time": "2023-08-24T20:49:20.550Z"
   },
   {
    "duration": 51,
    "start_time": "2023-08-24T20:49:20.612Z"
   },
   {
    "duration": 45,
    "start_time": "2023-08-24T20:49:20.665Z"
   },
   {
    "duration": 11,
    "start_time": "2023-08-24T20:49:20.712Z"
   },
   {
    "duration": 10,
    "start_time": "2023-08-24T20:49:20.726Z"
   },
   {
    "duration": 8892,
    "start_time": "2023-08-24T20:49:20.738Z"
   },
   {
    "duration": 4,
    "start_time": "2023-08-24T20:49:29.632Z"
   },
   {
    "duration": 82,
    "start_time": "2023-08-24T20:49:29.638Z"
   }
  ],
  "hide_input": false,
  "kernelspec": {
   "display_name": "Python 3 (ipykernel)",
   "language": "python",
   "name": "python3"
  },
  "language_info": {
   "codemirror_mode": {
    "name": "ipython",
    "version": 3
   },
   "file_extension": ".py",
   "mimetype": "text/x-python",
   "name": "python",
   "nbconvert_exporter": "python",
   "pygments_lexer": "ipython3",
   "version": "3.9.7"
  },
  "toc": {
   "base_numbering": 1,
   "nav_menu": {},
   "number_sections": true,
   "sideBar": true,
   "skip_h1_title": true,
   "title_cell": "Table of Contents",
   "title_sidebar": "Contents",
   "toc_cell": false,
   "toc_position": {
    "height": "calc(100% - 180px)",
    "left": "10px",
    "top": "150px",
    "width": "396.569px"
   },
   "toc_section_display": true,
   "toc_window_display": true
  }
 },
 "nbformat": 4,
 "nbformat_minor": 2
}
